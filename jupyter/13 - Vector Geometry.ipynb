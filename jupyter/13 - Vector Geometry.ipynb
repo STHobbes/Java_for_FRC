{
 "cells": [
  {
   "cell_type": "markdown",
   "id": "f000e128",
   "metadata": {},
   "source": [
    "## Vector Geometry\n",
    "\n",
    "This is how we described the 3D geometry we were using 40 years ago. I've been looking for a better\n",
    "description of what this really is and the best I can find is linear algebra applied to 3D geometry. In the\n",
    "last section we were initially trying to find the target position relative to the camera; then mapping\n",
    "that back to the target position relative to the robot; and then mapping that back to the robot\n",
    "position relative to the field.\n",
    "\n",
    "This required a lot of special math derived for the specific geometry of the current robot with the current\n",
    "camera mounting. This is really complicated; hard to wrap your head around; and if things change in the\n",
    "mounting of the camera on the robot, then we may need to re-derive the equations.\n",
    "\n",
    "We want a more generalized and simple way to describe this system of frames of reference and mapping\n",
    "between them that is simple to customize for any camera mounting, or for multiple cameras. And this is where\n",
    "vector geometry comes in.\n",
    "\n",
    "### The Elements of Vector Geometry\n",
    "\n",
    "There are several elements of vector geometry that we will talk about:\n",
    "* **local coordinate systems** - coordinate systems where the origin and axes are generally *attached* to\n",
    "  an object (like the camera, the robot, the game field), and if you move the object, the coordinate system\n",
    "  move with it and all the bits associated with the object move together and stay in the same configuration\n",
    "  relative to the coordinate to the coordinate system;\n",
    "* **point** - a position expressed in term of a coordinate system;\n",
    "* **vector** - expresses moving from one point to another point in terms of direction and distance;\n",
    "* **plane** - a surface that divides space into an *inside* and an *outside*;\n",
    "* **transformation** - a mapping from the coordinate system of one object (the robot) to another\n",
    "  coordinate system (the field)."
   ]
  },
  {
   "cell_type": "markdown",
   "id": "71743831",
   "metadata": {},
   "source": [
    "### Point\n",
    "\n",
    "A point is simply the position of a point in space specified by the X, Y, and Z position relative to the\n",
    "coordinate system (2D graphing extended to 3D). To prepresent it we need a class that contains the\n",
    "X, Y, and Z coordinates."
   ]
  },
  {
   "cell_type": "code",
   "execution_count": 3,
   "id": "d38266ef",
   "metadata": {},
   "outputs": [],
   "source": [
    "class Point3d \n",
    "{\n",
    "    double m_x = 0.0;\n",
    "    double m_y = 0.0;\n",
    "    double m_z = 0.0;\n",
    "    \n",
    "    public Point3d()\n",
    "    {\n",
    "    \n",
    "    }\n",
    "    \n",
    "    public Point3d(double x, double y, double z)\n",
    "    {\n",
    "        m_x = x;\n",
    "        m_y = y;\n",
    "        m_z = z;\n",
    "    }\n",
    "    \n",
    "    public double getX()\n",
    "    {\n",
    "        return m_x;\n",
    "    }\n",
    "    \n",
    "    public double getY()\n",
    "    {\n",
    "        return m_y;\n",
    "    }\n",
    "    \n",
    "    public double getZ()\n",
    "    {\n",
    "        return m_z;\n",
    "    }\n",
    "    \n",
    "    /**\n",
    "     */\n",
    "    public double distance(Point3d pt)\n",
    "    {\n",
    "        double dx = m_x - pt.getX();\n",
    "        double dy = m_y - pt.getY();\n",
    "        double dz = m_z - pt.getZ();\n",
    "        return Math.sqrt((dx * dx) + (dy * dy) + (dz * dz));\n",
    "    }\n",
    "}"
   ]
  },
  {
   "cell_type": "code",
   "execution_count": 4,
   "id": "0e94c548",
   "metadata": {},
   "outputs": [
    {
     "data": {
      "text/plain": [
       "6.557438524302"
      ]
     },
     "execution_count": 4,
     "metadata": {},
     "output_type": "execute_result"
    }
   ],
   "source": [
    "// a point at the origin\n",
    "Point3d pt1 = new Point3d();\n",
    "// a point at some position\n",
    "Point3d pt2 = new Point3d(-3.0,3.0,5.0);\n",
    "// get the distance between the points\n",
    "pt1.distance(pt2);"
   ]
  },
  {
   "cell_type": "markdown",
   "id": "7e34bfe7",
   "metadata": {},
   "source": [
    "### Transformation\n",
    "\n",
    "Now we need to go into linear algebra and matrices. If you have not done any matrix math before, I will try to\n",
    "keep this simple. In linear algebra we have 1-dimensional arrays, like a point. We have written the point class\n",
    "with X, Y, Z member variables. But, it could have been written as an array of 3 values with X, Y, and Z indices of\n",
    "0, 1, and 2 respectively.\n",
    "\n",
    "This prepares us to talk about a transform. The idea is that there is a transformation matrix that maps from one\n",
    "coordinate system (i.e. robot coordinates) to another coordinate system (i.e. field coordinates). The transformation\n",
    "is a 4x4 matrix, and the transformation (`xfm`) from coordinate system to another coordinate system written as:\n",
    "```\n",
    "     [ xfm[0][0] xfm[0][1] xfm[0][2] xfm[0][3] ] [ X ]   [ Xt ]\n",
    "     | xfm[1][0] xfm[1][1] xfm[1][2] xfm[1][3] | | Y | = | Yt |\n",
    "     | xfm[2][0] xfm[2][1] xfm[2][2] xfm[2][3] | | Z |   | Zt |\n",
    "     [ xfm[3][0] xfm[3][1] xfm[3][2] xfm[3][3] ] [ 1 ]   [ 1  ]\n",
    "```\n",
    "\n",
    "If you have not done matrix math before, the multiplication is that you walk horizontally across each row of the\n",
    "matrix and multiply the column value by the row value of the point. Confused? - OK lets walk through that:\n",
    "```\n",
    "    Xt = (xfm[0][0] * X) + (xfm[0][1] * Y) + (xfm[0][2] * Z) + (xfm[0][3] * 1)\n",
    "    Yt = (xfm[1][0] * X) + (xfm[1][1] * Y) + (xfm[1][2] * Z) + (xfm[1][3] * 1)\n",
    "    Zt = (xfm[2][0] * X) + (xfm[2][1] * Y) + (xfm[2][2] * Z) + (xfm[2][3] * 1)\n",
    "    1  = (xfm[3][0] * X) + (xfm[3][1] * Y) + (xfm[3][2] * Z) + (xfm[3][3] * 1)\n",
    "```\n",
    "\n",
    "And why does that all work out? Well, the heading is a rotation around the Z axis; and the position of the\n",
    "robot on the field, call it `(Tx,Ty,Tz=0)` (for translation in X and Y) results in a transformation of:\n",
    "\n",
    "```\n",
    "     [  cos(heading) sin(heading) 0.0   Tx ] [  X  ]   [  Xt ]\n",
    "     | -sin(heading) cos(heading) 0.0   Ty | |  Y  | = |  Yt |\n",
    "     |     0.0          0.0       1.0   Tz | |  Z  |   |  Zt |\n",
    "     [     0.0          0.0       0.0  1.0 ] [ 1.0 ]   [ 1.0 ]\n",
    "```\n",
    "\n",
    "And when we walk through the transformation multipltation:\n",
    "```\n",
    "    Xt = ((cos(heading) * X)  + (sin(heading) * Y) + 0.0 +  Tx)\n",
    "    Yt = ((-sin(heading) * X) + (cos(heading) * Y) + 0.0 +  Ty)\n",
    "    Zt = (      0.0           +      0.0           +  Z  + 0.0)\n",
    "    1  = (      0.0           +      0.0           + 0.0 + 1.0)\n",
    "```\n",
    "\n",
    "Whoa - that was a lot to digest, so let's look a transformation as it relates to us.\n"
   ]
  },
  {
   "cell_type": "code",
   "execution_count": 17,
   "id": "07078d0a",
   "metadata": {},
   "outputs": [],
   "source": [
    "class Vector3d {\n",
    "    double m_i = 1.0;\n",
    "    double m_j = 0.0;\n",
    "    double m_k = 0.0;\n",
    "    \n",
    "    public Vector3d()\n",
    "    {\n",
    "    \n",
    "    }\n",
    "    \n",
    "    public Vector3d(double i, double j, double k)\n",
    "    {\n",
    "        m_i = i;\n",
    "        m_j = j;\n",
    "        m_k = k;\n",
    "    }\n",
    "    \n",
    "    public Vector3d(Point3d start, Point3d end)\n",
    "    {\n",
    "        m_i = end.getX() - start.getX();\n",
    "        m_j = end.getY() - start.getY();\n",
    "        m_k = end.getZ() - start.getZ();\n",
    "    }\n",
    "    \n",
    "    public double getI()\n",
    "    {\n",
    "        return m_i;\n",
    "    }\n",
    "    \n",
    "    public double getJ()\n",
    "    {\n",
    "        return m_j;\n",
    "    }\n",
    "    \n",
    "    public double getK()\n",
    "    {\n",
    "        return m_k;\n",
    "    }\n",
    "    \n",
    "    public Vector3d normalize()\n",
    "    {\n",
    "        double length = Math.sqrt((m_i * m_i) + (m_j * m_j) + (m_k * m_k));\n",
    "        m_i /= length;\n",
    "        m_j /= length;\n",
    "        m_k /= length;\n",
    "        return this;\n",
    "    }\n",
    "}\n",
    "\n",
    "\n",
    "\n"
   ]
  },
  {
   "cell_type": "markdown",
   "id": "6acefde6",
   "metadata": {},
   "source": [
    "### Vector"
   ]
  },
  {
   "cell_type": "code",
   "execution_count": 18,
   "id": "790ebaba",
   "metadata": {},
   "outputs": [
    {
     "name": "stdout",
     "output_type": "stream",
     "text": [
      "i,j,k = -3.0, 3.0, 5.0\n",
      "i,j,k = -0.457495710997814, 0.457495710997814, 0.7624928516630234\n"
     ]
    }
   ],
   "source": [
    "Vector3d targetDir = new Vector3d(pt1, pt2);\n",
    "System.out.println(\"i,j,k = \" + targetDir.getI() + \", \" + targetDir.getJ() + \", \" + targetDir.getK());\n",
    "targetDir.normalize();\n",
    "System.out.println(\"i,j,k = \" + targetDir.getI() + \", \" + targetDir.getJ() + \", \" + targetDir.getK());\n",
    "\n"
   ]
  },
  {
   "cell_type": "markdown",
   "id": "69f9db56",
   "metadata": {},
   "source": [
    "### Line"
   ]
  },
  {
   "cell_type": "markdown",
   "id": "6bcae4ed",
   "metadata": {},
   "source": [
    "### Plane"
   ]
  }
 ],
 "metadata": {
  "kernelspec": {
   "display_name": "Java",
   "language": "java",
   "name": "java"
  },
  "language_info": {
   "codemirror_mode": "java",
   "file_extension": ".jshell",
   "mimetype": "text/x-java-source",
   "name": "Java",
   "pygments_lexer": "java",
   "version": "16.0.1+9-24"
  }
 },
 "nbformat": 4,
 "nbformat_minor": 5
}
