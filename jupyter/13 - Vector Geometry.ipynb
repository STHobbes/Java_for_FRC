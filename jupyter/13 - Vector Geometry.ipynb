{
 "cells": [
  {
   "cell_type": "markdown",
   "id": "f000e128",
   "metadata": {},
   "source": [
    "## Vector Geometry\n",
    "\n",
    "* axis system and points in space\n",
    "* vector - particularly\n",
    "* transformation\n"
   ]
  },
  {
   "cell_type": "code",
   "execution_count": 4,
   "id": "d38266ef",
   "metadata": {},
   "outputs": [],
   "source": [
    "class Point3d \n",
    "{\n",
    "    double m_x = 0.0;\n",
    "    double m_y = 0.0;\n",
    "    double m_z = 0.0;\n",
    "    \n",
    "    public Point3d()\n",
    "    {\n",
    "    \n",
    "    }\n",
    "    public Point3d(double x, double y, double z)\n",
    "    {\n",
    "        m_x = x;\n",
    "        m_y = y;\n",
    "        m_z = z;\n",
    "    }\n",
    "    \n",
    "    public double getX()\n",
    "    {\n",
    "        return m_x;\n",
    "    }\n",
    "    \n",
    "    public double getY()\n",
    "    {\n",
    "        return m_y;\n",
    "    }\n",
    "    \n",
    "    public double getZ()\n",
    "    {\n",
    "        return m_z;\n",
    "    }\n",
    "    \n",
    "    public double distance(Point3d pt)\n",
    "    {\n",
    "        double dx = m_x - pt.getX();\n",
    "        double dy = m_y - pt.getY();\n",
    "        double dz = m_z - pt.getZ();\n",
    "        return Math.sqrt((dx * dx) + (dy * dy) + (dz * dz));\n",
    "    }\n",
    "}"
   ]
  },
  {
   "cell_type": "code",
   "execution_count": 16,
   "id": "0e94c548",
   "metadata": {},
   "outputs": [
    {
     "data": {
      "text/plain": [
       "6.557438524302"
      ]
     },
     "execution_count": 16,
     "metadata": {},
     "output_type": "execute_result"
    }
   ],
   "source": [
    "Point3d pt1 = new Point3d();\n",
    "Point3d pt2 = new Point3d(-3.0,3.0,5.0);\n",
    "pt1.distance(pt2);"
   ]
  },
  {
   "cell_type": "code",
   "execution_count": 17,
   "id": "07078d0a",
   "metadata": {},
   "outputs": [],
   "source": [
    "class Vector3d {\n",
    "    double m_i = 1.0;\n",
    "    double m_j = 0.0;\n",
    "    double m_k = 0.0;\n",
    "    \n",
    "    public Vector3d()\n",
    "    {\n",
    "    \n",
    "    }\n",
    "    \n",
    "    public Vector3d(double i, double j, double k)\n",
    "    {\n",
    "        m_i = i;\n",
    "        m_j = j;\n",
    "        m_k = k;\n",
    "    }\n",
    "    \n",
    "    public Vector3d(Point3d start, Point3d end)\n",
    "    {\n",
    "        m_i = end.getX() - start.getX();\n",
    "        m_j = end.getY() - start.getY();\n",
    "        m_k = end.getZ() - start.getZ();\n",
    "    }\n",
    "    \n",
    "    public double getI()\n",
    "    {\n",
    "        return m_i;\n",
    "    }\n",
    "    \n",
    "    public double getJ()\n",
    "    {\n",
    "        return m_j;\n",
    "    }\n",
    "    \n",
    "    public double getK()\n",
    "    {\n",
    "        return m_k;\n",
    "    }\n",
    "    \n",
    "    public Vector3d normalize()\n",
    "    {\n",
    "        double length = Math.sqrt((m_i * m_i) + (m_j * m_j) + (m_k * m_k));\n",
    "        m_i /= length;\n",
    "        m_j /= length;\n",
    "        m_k /= length;\n",
    "        return this;\n",
    "    }\n",
    "}\n",
    "\n",
    "\n",
    "\n"
   ]
  },
  {
   "cell_type": "code",
   "execution_count": 18,
   "id": "790ebaba",
   "metadata": {},
   "outputs": [
    {
     "name": "stdout",
     "output_type": "stream",
     "text": [
      "i,j,k = -3.0, 3.0, 5.0\n",
      "i,j,k = -0.457495710997814, 0.457495710997814, 0.7624928516630234\n"
     ]
    }
   ],
   "source": [
    "Vector3d targetDir = new Vector3d(pt1, pt2);\n",
    "System.out.println(\"i,j,k = \" + targetDir.getI() + \", \" + targetDir.getJ() + \", \" + targetDir.getK());\n",
    "targetDir.normalize();\n",
    "System.out.println(\"i,j,k = \" + targetDir.getI() + \", \" + targetDir.getJ() + \", \" + targetDir.getK());\n",
    "\n"
   ]
  },
  {
   "cell_type": "code",
   "execution_count": null,
   "id": "da311267",
   "metadata": {},
   "outputs": [],
   "source": []
  }
 ],
 "metadata": {
  "kernelspec": {
   "display_name": "Java",
   "language": "java",
   "name": "java"
  },
  "language_info": {
   "codemirror_mode": "java",
   "file_extension": ".jshell",
   "mimetype": "text/x-java-source",
   "name": "Java",
   "pygments_lexer": "java",
   "version": "16.0.1+9-24"
  }
 },
 "nbformat": 4,
 "nbformat_minor": 5
}
