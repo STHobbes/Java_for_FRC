{
 "cells": [
  {
   "cell_type": "markdown",
   "id": "f000e128",
   "metadata": {},
   "source": [
    "## Vector Geometry Intro\n",
    "\n",
    "This is how we described the 3D geometry we were using 40 years ago. I've been looking for a better\n",
    "description of what this really is and the best I can find is linear algebra applied to 3D geometry.\n",
    "\n",
    "In the\n",
    "last section we were initially trying to find the target position relative to the camera; then mapping\n",
    "that back to the target position relative to the robot; and then mapping that back to the robot\n",
    "position relative to the field. This required a lot of special math derived for the specific\n",
    "geometry of the current robot with the current\n",
    "camera mounting. This is really complicated; hard to wrap your head around; and if things change in the\n",
    "mounting of the camera on the robot, then we need to re-derive the equations and reprogram the calculations.\n",
    "\n",
    "We want a more generalized and simple way to describe this system of frames of reference and mapping\n",
    "between them that is simple to customize for any camera mounting, or for multiple cameras. And this is where\n",
    "vector geometry comes in. It lets us use constants for the camera position and angles relative to the center\n",
    "of the robot, etc.; and, if we change the mounting of the camera we merely change those constants, and the\n",
    "rest of the math just works.\n",
    "\n",
    "### The Elements of Vector Geometry\n",
    "\n",
    "There are several elements of vector geometry that we will talk about:\n",
    "* **local coordinate systems** - coordinate systems where the origin and axes are generally *attached* to\n",
    "  an object (like the camera, the robot, the game field), and if you move the object, the coordinate system\n",
    "  moves with it and all the bits associated with the object move together and stay in the same configuration\n",
    "  relative to the coordinate system;\n",
    "* **point** - a position expressed in term of a coordinate system;\n",
    "* **vector** - expresses moving from one point to another point in terms of direction and distance;\n",
    "* **plane** - a surface that divides space into an *inside* and an *outside*;\n",
    "* **transformation** - a mapping from the coordinate system of one object (the robot) to another\n",
    "  coordinate system (the field)."
   ]
  },
  {
   "cell_type": "markdown",
   "id": "4dd3c193",
   "metadata": {},
   "source": [
    "## Local Coordinate Systems\n",
    "\n",
    "Coordinate systems consist of an origin, and X, Y, and X axes which are mutually perpendicular. We have 3\n",
    "local coordinate systems we are worried about for figuring out where our robot is on the field:\n",
    "* ***the camera*** - All the limelight feedback is relative to the camera (relative to the coordinate system\n",
    "  of the camera);\n",
    "* ***the robot*** - All the bits and pieces of the robot (including the camera) are located relative to the\n",
    "  coordinate system of the robot;\n",
    "* ***the field*** - Ultimately, everything relevant to the game, like the game field, game elements, our\n",
    "  robot, and other robots have a position on the field. We need to know where we are on the field to make\n",
    "  good decisions about what our robot should be doing.\n",
    "\n",
    "### The Camera Axis System\n",
    "\n",
    "So, lets take a closed look at what a coordinate system is, and how it works in the formalization of vector\n",
    "geometry. We start by looking at the limelight and its software. The first thing we notice is that the limelight\n",
    "has an +X axis to the right and a +Y axis up relative to the screen, and we usually think of distance from the\n",
    "lens as the +Z axiz. The limelight software expresses everything relative to the screen, so we get a horizontal \n",
    "angle (which is really a rotation around the Y axis), and an elevation angle (which is really a rotation about\n",
    "the X axis):\n",
    "![alt text](./resources/camera_coordinates.jpg \"limelight camera coordinates\")\n",
    "\n",
    "This is a *left-handed* axis system. If you hold out your left hand and point your thumb in the +X direction;\n",
    "point your index finger in the +Y direction; and bend the rest of your fingers to about 90&deg; from the palm\n",
    "of your hand - they are pointing away from you, in the +Z direction. If you do the same with your right hand\n",
    "the +Z will be pointing towards you. To flip a left handed coordinate system into a right handed coordinate\n",
    "system we can just multiply Z by -1.\n",
    "\n",
    "### The Robot Axis System\n",
    "\n",
    "***Write This***\n",
    "\n",
    "### The field Axis System\n",
    "\n",
    "***Write This***"
   ]
  },
  {
   "cell_type": "markdown",
   "id": "f67ba2f1",
   "metadata": {},
   "source": [
    "## Point\n",
    "\n",
    "A point is simply the position of a point in space specified by the X, Y, and Z position relative to the\n",
    "coordinate system (2D graphing extended to 3D). To represent it we need a class that contains the\n",
    "X, Y, and Z coordinates."
   ]
  },
  {
   "cell_type": "code",
   "execution_count": 17,
   "id": "d38266ef",
   "metadata": {},
   "outputs": [],
   "source": [
    "class Point3d \n",
    "{\n",
    "    double m_x = 0.0;\n",
    "    double m_y = 0.0;\n",
    "    double m_z = 0.0;\n",
    "    \n",
    "    public Point3d()\n",
    "    {\n",
    "    \n",
    "    }\n",
    "    \n",
    "    public Point3d(double x, double y, double z)\n",
    "    {\n",
    "        m_x = x;\n",
    "        m_y = y;\n",
    "        m_z = z;\n",
    "    }\n",
    "    \n",
    "    public double getX()\n",
    "    {\n",
    "        return m_x;\n",
    "    }\n",
    "    \n",
    "    public double getY()\n",
    "    {\n",
    "        return m_y;\n",
    "    }\n",
    "    \n",
    "    public double getZ()\n",
    "    {\n",
    "        return m_z;\n",
    "    }\n",
    "    \n",
    "    /**\n",
    "     */\n",
    "    public double distance(Point3d pt)\n",
    "    {\n",
    "        double dx = m_x - pt.getX();\n",
    "        double dy = m_y - pt.getY();\n",
    "        double dz = m_z - pt.getZ();\n",
    "        return Math.sqrt((dx * dx) + (dy * dy) + (dz * dz));\n",
    "    }\n",
    "}"
   ]
  },
  {
   "cell_type": "code",
   "execution_count": 18,
   "id": "0e94c548",
   "metadata": {},
   "outputs": [
    {
     "data": {
      "text/plain": [
       "6.557438524302"
      ]
     },
     "execution_count": 18,
     "metadata": {},
     "output_type": "execute_result"
    }
   ],
   "source": [
    "// a point at the origin\n",
    "Point3d pt1 = new Point3d();\n",
    "// a point at some position\n",
    "Point3d pt2 = new Point3d(-3.0,3.0,5.0);\n",
    "// get the distance between the points\n",
    "pt1.distance(pt2);"
   ]
  },
  {
   "cell_type": "markdown",
   "id": "e340a08a",
   "metadata": {},
   "source": [
    "### Vector\n",
    "\n",
    "A vector represents a displacement (direction and distance) between two points. While vectors of this type are\n",
    "useful, it is far more common to express vectors as unit vectors or direction vectors (vectors of length = 1.0),\n",
    "and then talk about the displacement between two points as a dirction (the unit or direction vector) and a\n",
    "distance. One really good reason to do this is because directions can be transformed between coordinate systems\n",
    "(which we will talk about in the next lecture).\n",
    "\n",
    "What follows is some code for a vector. We use i, j, and k as the direction elements of the vector as these are\n",
    "the multipliers for the unit vectors I, J, and K in the direction of the X, Y, and Z axes respectively:"
   ]
  },
  {
   "cell_type": "code",
   "execution_count": 19,
   "id": "07078d0a",
   "metadata": {},
   "outputs": [],
   "source": [
    "class Vector3d {\n",
    "    double m_i = 1.0;\n",
    "    double m_j = 0.0;\n",
    "    double m_k = 0.0;\n",
    "    \n",
    "    /**\n",
    "     * Instantiate a unit vector in the X direction.\n",
    "     */\n",
    "    public Vector3d()\n",
    "    {\n",
    "    }\n",
    "    \n",
    "    /**\n",
    "     * Instantiate a vector set to some i, j, k.\n",
    "     */\n",
    "    public Vector3d(double i, double j, double k)\n",
    "    {\n",
    "        m_i = i;\n",
    "        m_j = j;\n",
    "        m_k = k;\n",
    "    }\n",
    "    \n",
    "    /**\n",
    "     * Instnatiate a copy of a vector\n",
    "     */\n",
    "    public Vector3d(Vector3d v)\n",
    "    {\n",
    "        m_i = v.m_i;\n",
    "        m_j = v.m_j;\n",
    "        m_k = v.m_k;\n",
    "    }\n",
    "    \n",
    "    /**\n",
    "     * Instantiate a vector from a start point to and end point. This will be an\n",
    "     * unnormalized vector.\n",
    "     */\n",
    "    public Vector3d(Point3d start, Point3d end)\n",
    "    {\n",
    "        m_i = end.getX() - start.getX();\n",
    "        m_j = end.getY() - start.getY();\n",
    "        m_k = end.getZ() - start.getZ();\n",
    "    }\n",
    "    \n",
    "    /**\n",
    "     * Get the I component of the vector\n",
    "     */\n",
    "    public double getI()\n",
    "    {\n",
    "        return m_i;\n",
    "    }\n",
    "    \n",
    "    /**\n",
    "     * Get the J component of the vector\n",
    "     */\n",
    "    public double getJ()\n",
    "    {\n",
    "        return m_j;\n",
    "    }\n",
    "    \n",
    "    /**\n",
    "     * Get the K component of the vector\n",
    "     */\n",
    "    public double getK()\n",
    "    {\n",
    "        return m_k;\n",
    "    }\n",
    "\n",
    "    /**\n",
    "     * Get the length of this vector.\n",
    "     */\n",
    "    public double length()\n",
    "    {\n",
    "        return Math.sqrt((m_i * m_i) + (m_j * m_j) + (m_k * m_k));\n",
    "    }\n",
    "\n",
    "    /**\n",
    "     * Normalized this vector to a unit or direction vector.\n",
    "     */\n",
    "    public Vector3d normalize()\n",
    "    {\n",
    "        return scale(1.0/length());\n",
    "    }\n",
    "    \n",
    "    /**\n",
    "     * Scale the components of this vector by the specified scale.\n",
    "     */\n",
    "    public Vector3d scale(double scale)\n",
    "    {\n",
    "        m_i *= scale;\n",
    "        m_j *= scale;\n",
    "        m_k *= scale;\n",
    "        return this;\n",
    "    }\n",
    "    \n",
    "    /**\n",
    "     * Gets the dot product between this vector and another vector, <tt>v</tt>.\n",
    "     * @param v The vector against which we take the dot product.  The value of this vector is unchanged.\n",
    "     * @return Returns the dot product between this vector and vector <tt>v</tt>.\n",
    "     */\n",
    "    public double dot(final Vector3d v) {\n",
    "        return (m_i * v.m_i) + (m_j * v.m_j) + (m_k * v.m_k);\n",
    "    }\n",
    "}"
   ]
  },
  {
   "cell_type": "markdown",
   "id": "077f4942",
   "metadata": {},
   "source": [
    "Now that we have a basic `Vector3d` class, let's create a vector between `pt1` and `pt2` from the last section,\n",
    "and check out how normalization works:"
   ]
  },
  {
   "cell_type": "code",
   "execution_count": 20,
   "id": "790ebaba",
   "metadata": {},
   "outputs": [
    {
     "name": "stdout",
     "output_type": "stream",
     "text": [
      "initial i,j,k = -3.0, 3.0, 5.0\n",
      "initial length = 6.557438524302\n",
      "normalized i,j,k = -0.457495710997814, 0.457495710997814, 0.7624928516630234\n",
      "normalized length = 1.0\n"
     ]
    }
   ],
   "source": [
    "Vector3d targetDir = new Vector3d(pt1, pt2);\n",
    "System.out.println(\"initial i,j,k = \" + targetDir.getI() + \", \" + targetDir.getJ() + \", \" + targetDir.getK());\n",
    "System.out.println(\"initial length = \" + targetDir.length());\n",
    "targetDir.normalize();\n",
    "System.out.println(\"normalized i,j,k = \" + targetDir.getI() + \", \" + targetDir.getJ() + \", \" + targetDir.getK());\n",
    "System.out.println(\"normalized length = \" + targetDir.length());"
   ]
  },
  {
   "cell_type": "markdown",
   "id": "13d1f316",
   "metadata": {},
   "source": [
    "A really interesting property of unit vectors is the *dot product*, which is the sum of the components\n",
    "multiplied together. That is, for vectors `V1` and `V2` the dot product is `(V1.m_i * V2.m_i) + (V1.m_j * V2.m_j) + (V1.m_k * V2.m_k)` which is the cosine of the angle between the two vectors regardless of their orientation\n",
    "in space. Let's test this out. We can use some points in the XY plane to generate fome vectors. we will use\n",
    "`(0.0,0.0,0.0)` as the origin, and the end points `(1.0,0.0,0.0)` - straight ahead for the robot; `(1.0,-1.0,0.0)`-\n",
    "to the left at 45&deg; `(0.0,-1.0,0.0)` - to the left at 90&deg;; and `(-1.0,0.0,0.0)` - directly backwards:"
   ]
  },
  {
   "cell_type": "code",
   "execution_count": 21,
   "id": "49e47496",
   "metadata": {},
   "outputs": [
    {
     "name": "stdout",
     "output_type": "stream",
     "text": [
      "dot forward = 1.0, expected 1.0\n",
      "dot left 45 = 0.7071067811865475, expected 0.7071067811865476\n",
      "dot left 90 = 0.0, expected 6.123233995736766E-17\n",
      "dot left 180 = -1.0, expected -1.0\n"
     ]
    }
   ],
   "source": [
    "Point3d ptOrigin = new Point3d(0.0, 0.0, 0.0);\n",
    "Point3d ptForward = new Point3d(1.0, 0.0, 0.0);\n",
    "Point3d ptLeft45 = new Point3d(1.0, -1.0, 0.0);\n",
    "Point3d ptLeft90 = new Point3d(0.0, -1.0, 0.0);\n",
    "Point3d ptLeft180 = new Point3d(-1.0, 0.0, 0.0);\n",
    "\n",
    "// These are the normalized (unit) vectors generated from the origin to the points\n",
    "Vector3d vForward = new Vector3d(ptOrigin,ptForward).normalize();\n",
    "Vector3d vLeft45 = new Vector3d(ptOrigin,ptLeft45).normalize();\n",
    "Vector3d vLeft90 = new Vector3d(ptOrigin,ptLeft90).normalize();\n",
    "Vector3d vLeft180 = new Vector3d(ptOrigin,ptLeft180).normalize();\n",
    "\n",
    "// and these are the dot products\n",
    "System.out.println(\"dot forward = \" + vForward.dot(vForward) + \", expected \" + Math.cos(Math.toRadians(0.0)));\n",
    "System.out.println(\"dot left 45 = \" + vForward.dot(vLeft45) + \", expected \" + Math.cos(Math.toRadians(-45.0)));\n",
    "System.out.println(\"dot left 90 = \" + vForward.dot(vLeft90) + \", expected \" + Math.cos(Math.toRadians(-90.0)));\n",
    "System.out.println(\"dot left 180 = \" + vForward.dot(vLeft180) + \", expected \" + Math.cos(Math.toRadians(-180.0)));\n"
   ]
  },
  {
   "cell_type": "markdown",
   "id": "8a464832",
   "metadata": {},
   "source": [
    "Note that this exposes one of the problems with digital computations - there is round off error in\n",
    "computations. So you see the `dot left 45` and `dot left 90` do not exactly match the expected, but\n",
    "only differ by the 15th or 16th decimal digit. So, they can be considered to be equal.\n",
    "\n",
    "To demonstrate the usefulness of the dot product, let's twist the previous example so our forward is\n",
    "`(1.0,1.0,0.0)`; our 45&deg; is `(1.0,1.0,1.0)`; our 90&deg; is `(0.0,0.0,1.0)`; and our baackwards is\n",
    "`(-1.0,-1.0,0.0)`:"
   ]
  },
  {
   "cell_type": "code",
   "execution_count": 22,
   "id": "6ea632e0",
   "metadata": {},
   "outputs": [
    {
     "name": "stdout",
     "output_type": "stream",
     "text": [
      "dot forward = 0.9999999999999998, expected 1.0\n",
      "dot left 45 = 0.7071067811865475, expected 0.7071067811865476\n",
      "dot left 90 = 0.0, expected 6.123233995736766E-17\n",
      "dot left 180 = -0.9999999999999998, expected -1.0\n"
     ]
    }
   ],
   "source": [
    "Point3d pt2Origin = new Point3d(0.0, 0.0, 0.0);\n",
    "Point3d pt2Forward = new Point3d(1.0, 1.0, 0.0);\n",
    "Point3d pt2Left45 = new Point3d(Math.cos(Math.toRadians(45.0)), Math.cos(Math.toRadians(45.0)), 1.0);\n",
    "Point3d pt2Left90 = new Point3d(0.0, 0.0, 1.0);\n",
    "Point3d pt2Left180 = new Point3d(-1.0, -1.0, 0.0);\n",
    "\n",
    "// These are the normalized (unit) vectors generated from the origin to the points\n",
    "Vector3d v2Forward = new Vector3d(pt2Origin,pt2Forward).normalize();\n",
    "Vector3d v2Left45 = new Vector3d(pt2Origin,pt2Left45).normalize();\n",
    "Vector3d v2Left90 = new Vector3d(pt2Origin,pt2Left90).normalize();\n",
    "Vector3d v2Left180 = new Vector3d(pt2Origin,pt2Left180).normalize();\n",
    "\n",
    "// and these are the dot products\n",
    "System.out.println(\"dot forward = \" + v2Forward.dot(v2Forward) + \", expected \" + Math.cos(Math.toRadians(0.0)));\n",
    "System.out.println(\"dot left 45 = \" + v2Forward.dot(v2Left45) + \", expected \" + Math.cos(Math.toRadians(-45.0)));\n",
    "System.out.println(\"dot left 90 = \" + v2Forward.dot(v2Left90) + \", expected \" + Math.cos(Math.toRadians(-90.0)));\n",
    "System.out.println(\"dot left 180 = \" + v2Forward.dot(v2Left180) + \", expected \" + Math.cos(Math.toRadians(-180.0)));\n"
   ]
  },
  {
   "cell_type": "markdown",
   "id": "bc19316f",
   "metadata": {},
   "source": [
    "Once again, we see there is roundoff error and that the dot products are within the 15th or 16th decimal digit\n",
    "of the expected value."
   ]
  },
  {
   "cell_type": "markdown",
   "id": "420443d3",
   "metadata": {},
   "source": [
    "## Line\n",
    "\n",
    "A line has been a missing piece in our discussion so far. There are a couple ways to think about a line, and\n",
    "they both revolve around the\n",
    "question of why are you representing the line and what do you want to do with that representation. For example, if\n",
    "we want to generate points on a line we probably want an *explicit* representation, and the most useful I've found is a parametric representation which has a start point (like the camera lens), a unit direction, and if you specify the distance, it generates the coordinates of the point at that distance from the start point. The next most useful\n",
    "is an *implicit*\n",
    "represention which lets you test a point for closeness to the line (in the computation world there is always some round-off error, so there is a question of how close is *ON* the line).\n",
    "\n",
    "In the 2020-2021 season the path generator used set of lines to represent the path the robot position is the start of a line and the robot moves in some direction for the duration of a commandgeneratig the startbpoint for the next segment of the path.\n",
    "\n",
    "Let's write a little code for a `Line3d`:\n"
   ]
  },
  {
   "cell_type": "code",
   "execution_count": null,
   "id": "cdc776d5",
   "metadata": {},
   "outputs": [],
   "source": []
  },
  {
   "cell_type": "markdown",
   "id": "244e1496",
   "metadata": {},
   "source": [
    "## Plane"
   ]
  }
 ],
 "metadata": {
  "kernelspec": {
   "display_name": "Java",
   "language": "java",
   "name": "java"
  },
  "language_info": {
   "codemirror_mode": "java",
   "file_extension": ".jshell",
   "mimetype": "text/x-java-source",
   "name": "Java",
   "pygments_lexer": "java",
   "version": "16.0.1+9-24"
  }
 },
 "nbformat": 4,
 "nbformat_minor": 5
}
