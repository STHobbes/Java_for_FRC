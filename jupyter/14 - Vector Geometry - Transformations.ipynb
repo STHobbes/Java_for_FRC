{
 "cells": [
  {
   "cell_type": "markdown",
   "id": "b50a1b32",
   "metadata": {},
   "source": [
    "### Transformation\n",
    "\n",
    "Now we need to go into linear algebra and matrices. If you have not done any matrix math before, I will try to\n",
    "keep this simple. In linear algebra we have 1-dimensional arrays, like a point. We have written the point class\n",
    "with X, Y, Z member variables. But, it could have been written as an array of 3 values with X, Y, and Z indices of\n",
    "0, 1, and 2 respectively.\n",
    "\n",
    "This prepares us to talk about a transform. The idea is that there is a transformation matrix that maps from one\n",
    "coordinate system (i.e. robot coordinates) to another coordinate system (i.e. field coordinates). The transformation\n",
    "is a 4x4 matrix, and the transformation (`xfm`) from coordinate system to another coordinate system written as:\n",
    "```\n",
    "     [ xfm[0][0] xfm[0][1] xfm[0][2] xfm[0][3] ] [ X ]   [ Xt ]\n",
    "     | xfm[1][0] xfm[1][1] xfm[1][2] xfm[1][3] | | Y | = | Yt |\n",
    "     | xfm[2][0] xfm[2][1] xfm[2][2] xfm[2][3] | | Z |   | Zt |\n",
    "     [ xfm[3][0] xfm[3][1] xfm[3][2] xfm[3][3] ] [ 1 ]   [ 1  ]\n",
    "```\n",
    "\n",
    "If you have not done matrix math before, the multiplication is that you walk horizontally across each row of the\n",
    "matrix and multiply the column value by the corresponding row value of the point, then sum the result.\n",
    " Confused? - OK lets walk through that:\n",
    "```\n",
    "    Xt = (xfm[0][0] * X) + (xfm[0][1] * Y) + (xfm[0][2] * Z) + (xfm[0][3] * 1)\n",
    "    Yt = (xfm[1][0] * X) + (xfm[1][1] * Y) + (xfm[1][2] * Z) + (xfm[1][3] * 1)\n",
    "    Zt = (xfm[2][0] * X) + (xfm[2][1] * Y) + (xfm[2][2] * Z) + (xfm[2][3] * 1)\n",
    "    1  = (xfm[3][0] * X) + (xfm[3][1] * Y) + (xfm[3][2] * Z) + (xfm[3][3] * 1)\n",
    "```\n",
    "\n",
    "And why does that all work out? Well, the heading is a rotation around the Z axis (NOTE, however, as described in\n",
    "the coordinate system part of the previous section, we are using right-hand coordinate systems for the field and\n",
    "the robot - and in a right-hand coordinate system a positive Z rotation rotates X into Y, or is counter-clockwise;\n",
    "we have been using heading as a clockwise rotation, so we need to negate it for the vector geometry formalization) \n",
    "; and the position of the\n",
    "robot on the field, call it `(Tx,Ty,Tz=0)` (for translation in X and Y) results in a transformation of:\n",
    "\n",
    "```\n",
    "     [  cos(-heading) sin(-heading) 0.0   Tx ] [  X  ]   [  Xt ]\n",
    "     | -sin(-heading) cos(-heading) 0.0   Ty | |  Y  | = |  Yt |\n",
    "     |      0.0           0.0       1.0   Tz | |  Z  |   |  Zt |\n",
    "     [      0.0           0.0       0.0  1.0 ] [ 1.0 ]   [ 1.0 ]\n",
    "```\n",
    "\n",
    "And when we walk through the transformation multipltation:\n",
    "```\n",
    "    Xt = ((cos(-heading) * X)  + (sin(-heading) * Y) + 0.0 +  Tx)\n",
    "    Yt = ((-sin(-heading) * X) + (cos(-heading) * Y) + 0.0 +  Ty)\n",
    "    Zt = (       0.0           +       0.0           +  Z  + 0.0)\n",
    "    1  = (       0.0           +       0.0           + 0.0 + 1.0)\n",
    "```\n",
    "\n",
    "Whoa - that was a lot to digest, so let's look a transformation as it relates to us.\n"
   ]
  },
  {
   "cell_type": "code",
   "execution_count": null,
   "id": "42bfb6ed",
   "metadata": {},
   "outputs": [],
   "source": []
  }
 ],
 "metadata": {
  "kernelspec": {
   "display_name": "Java",
   "language": "java",
   "name": "java"
  },
  "language_info": {
   "codemirror_mode": "java",
   "file_extension": ".jshell",
   "mimetype": "text/x-java-source",
   "name": "Java",
   "pygments_lexer": "java",
   "version": "16.0.1+9-24"
  }
 },
 "nbformat": 4,
 "nbformat_minor": 5
}
