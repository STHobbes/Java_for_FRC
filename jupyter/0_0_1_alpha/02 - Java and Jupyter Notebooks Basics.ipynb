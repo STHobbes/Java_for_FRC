{
 "cells": [
  {
   "cell_type": "markdown",
   "id": "15b93efa",
   "metadata": {},
   "source": [
    "This page is called a notebook. It puts a special wrapper around Java so we can edit and run just a few lines of Java in little blocks called cells without having to deal with all the structure - specifically it runs Java as though it's and interpreted language. This makes it easier to learn and practice little bits of code and get the basics before we move on the the more complex parts of the language.\n",
    "\n",
    "Here is an example of a cell:"
   ]
  },
  {
   "cell_type": "code",
   "execution_count": 2,
   "id": "2edaf163",
   "metadata": {},
   "outputs": [
    {
     "data": {
      "text/plain": [
       "This is an example of a Java string"
      ]
     },
     "execution_count": 2,
     "metadata": {},
     "output_type": "execute_result"
    }
   ],
   "source": [
    "String myString = \"This is an example of a Java string\";\n",
    "myString"
   ]
  },
  {
   "cell_type": "markdown",
   "id": "ef929fc7",
   "metadata": {},
   "source": [
    "So in this example we are declaring a variable `myString`, and setting it's value to `\"This is an example of a Java string\"`, then we are asking what the value of `myString` is. So try it out in the next cell - put your cursor in the cell, create a string called `differentString`, set it equal to whatever you want, and ask for it's value. after you type it in type \\<shift\\>\\<ret\\> and your cell will run."
   ]
  },
  {
   "cell_type": "code",
   "execution_count": null,
   "id": "40cd2547",
   "metadata": {},
   "outputs": [],
   "source": []
  },
  {
   "cell_type": "markdown",
   "id": "6d10505e",
   "metadata": {},
   "source": [
    "Typically, you will make some mistakes when you type stuff,and when you hit \\<shift\\>\\<ret\\> you will get something like:"
   ]
  },
  {
   "cell_type": "code",
   "execution_count": 7,
   "id": "c8936c07",
   "metadata": {},
   "outputs": [
    {
     "ename": "CompilationException",
     "evalue": "",
     "output_type": "error",
     "traceback": [
      "\u001b[1m\u001b[30m|   \u001b[1m\u001b[30mString someOtherString = \u001b[0m\u001b[1m\u001b[30m\u001b[41m\u001b[0m\u001b[1m\u001b[30m\"Probably got something wrong here\u001b[0m",
      "\u001b[1m\u001b[31munclosed string literal\u001b[0m",
      ""
     ]
    }
   ],
   "source": [
    "String someOtherString = \"Probably got something wrong here\n",
    "someOtherString"
   ]
  },
  {
   "cell_type": "markdown",
   "id": "577919d1",
   "metadata": {},
   "source": [
    "So you get a message that shows you the bit of code that has a problem, and in red a description of the problem. Just put the cursor at the end of the line add the close quote, and in Java, every line ends wth a semi-colon:"
   ]
  },
  {
   "cell_type": "code",
   "execution_count": 6,
   "id": "6e4de108",
   "metadata": {},
   "outputs": [
    {
     "data": {
      "text/plain": [
       "Probably got something wrong here - fixed it."
      ]
     },
     "execution_count": 6,
     "metadata": {},
     "output_type": "execute_result"
    }
   ],
   "source": [
    "String someOtherString = \"Probably got something wrong here - fixed it.\";\n",
    "someOtherString"
   ]
  },
  {
   "cell_type": "markdown",
   "id": "0590559f",
   "metadata": {},
   "source": [
    "All the cells on a page work together, so at this point `mySting`, `someOtherString`, and `differentString` have been defined, so we can look at them again, or use them in other code:"
   ]
  },
  {
   "cell_type": "code",
   "execution_count": 8,
   "id": "a8c26472",
   "metadata": {},
   "outputs": [
    {
     "data": {
      "text/plain": [
       "This is an example of a Java string"
      ]
     },
     "execution_count": 8,
     "metadata": {},
     "output_type": "execute_result"
    }
   ],
   "source": [
    "myString"
   ]
  },
  {
   "cell_type": "markdown",
   "id": "17dfc40c",
   "metadata": {},
   "source": [
    "One thing that you may have noticed is that if you end a cell with a line that just contains a variable name\n",
    "then the value gets printed as the output. This is not valid Java. This is what is typically thought of as a *debugging* function that lets you look into running code to see a value. We will talk about debugging at\n",
    "a later time. For right now, if you really want to output something you should use the Java print line command as:"
   ]
  },
  {
   "cell_type": "code",
   "execution_count": 10,
   "id": "0e75ba05",
   "metadata": {},
   "outputs": [
    {
     "name": "stdout",
     "output_type": "stream",
     "text": [
      "myString = This is an example of a Java string\n",
      "someOtherString = Probably got something wrong here - fixed it.\n"
     ]
    }
   ],
   "source": [
    "System.out.println(\"myString = \" + myString);\n",
    "System.out.println(\"someOtherString = \" + someOtherString);"
   ]
  },
  {
   "cell_type": "markdown",
   "id": "25852f50",
   "metadata": {},
   "source": [
    "A couple things you should know is when you are typing something in a cell the \\<tab\\> key will show you some auto-completion options (which helps when you are trying to remember method names). Also put the cursor on something in the cell and hit \\<shift\\>\\<tab\\> to get the documentation for that thing.\n",
    "\n",
    "**WARNING** While this environment works pretty well for learning basic concepts, it does not support everything in the Java language."
   ]
  }
 ],
 "metadata": {
  "kernelspec": {
   "display_name": "Java",
   "language": "java",
   "name": "java"
  },
  "language_info": {
   "codemirror_mode": "java",
   "file_extension": ".jshell",
   "mimetype": "text/x-java-source",
   "name": "Java",
   "pygments_lexer": "java",
   "version": "17.0.9+11-LTS-201"
  }
 },
 "nbformat": 4,
 "nbformat_minor": 5
}
