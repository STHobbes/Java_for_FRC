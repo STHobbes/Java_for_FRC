{
 "cells": [
  {
   "cell_type": "code",
   "execution_count": 2,
   "id": "dcbffc50",
   "metadata": {},
   "outputs": [
    {
     "name": "stdout",
     "output_type": "stream",
     "text": [
      "Hello\n"
     ]
    }
   ],
   "source": [
    "void printHello()\n",
    "{\n",
    "    System.out.println(\"Hello\");\n",
    "}\n",
    "\n",
    "printHello();"
   ]
  },
  {
   "cell_type": "code",
   "execution_count": 3,
   "id": "a28c6d93",
   "metadata": {},
   "outputs": [
    {
     "name": "stdout",
     "output_type": "stream",
     "text": [
      "Hello Kai\n"
     ]
    }
   ],
   "source": [
    "void printHelloName(String name)\n",
    "{\n",
    "    System.out.println(\"Hello \" + name);\n",
    "}\n",
    "\n",
    "printHelloName(\"Kai\")"
   ]
  },
  {
   "cell_type": "code",
   "execution_count": 5,
   "id": "ad7f4790",
   "metadata": {},
   "outputs": [
    {
     "data": {
      "text/plain": [
       "0.5"
      ]
     },
     "execution_count": 5,
     "metadata": {},
     "output_type": "execute_result"
    }
   ],
   "source": [
    "long leftFrontDrive = 0;\n",
    "long leftFrontSpin = 1;\n",
    "long leftFrontDirection = 99;\n",
    "double leftFrontSpeed = 0.0;\n",
    "\n",
    "\n",
    "double setModuleSpeed(long driveMotorId, double speed)\n",
    "{\n",
    "    // Drive motor ID - set the speed\n",
    "    return speed;\n",
    "}\n",
    "\n",
    "\n",
    "leftFrontSpeed = setModuleSpeed(leftFrontDrive, 0.5);\n",
    "leftFrontSpeed"
   ]
  },
  {
   "cell_type": "code",
   "execution_count": 11,
   "id": "2f897708",
   "metadata": {},
   "outputs": [
    {
     "name": "stdout",
     "output_type": "stream",
     "text": [
      "leftFrontData: driveId = 0\n",
      "leftFrontData: speed = 0.0\n",
      "leftFrontData: driveId = 0\n",
      "leftFrontData: driveId = 0\n",
      "leftFrontData: speed = 0.5\n"
     ]
    }
   ],
   "source": [
    "// build data for the module\n",
    "HashMap leftFrontData = new HashMap();\n",
    "leftFrontData.put(\"driveId\", new Long(0));\n",
    "leftFrontData.put(\"spinId\", new Long(1));\n",
    "leftFrontData.put(\"directionId\", new Long(99));\n",
    "leftFrontData.put(\"speed\", new Double(0.0));\n",
    "\n",
    "// test the data\n",
    "System.out.println(\"leftFrontData: driveId = \" + leftFrontData.get(\"driveId\"));\n",
    "System.out.println(\"leftFrontData: speed = \" + leftFrontData.get(\"speed\"));\n",
    "\n",
    "\n",
    "void setModuleSpeed(HashMap moduleData, double speed)\n",
    "{\n",
    "    // Drive motor ID - set the speed\n",
    "    System.out.println(\"moduleData: driveId = \" + moduleData.get(\"driveId\"));\n",
    "    moduleData.put(\"speed\", new Double(speed));\n",
    "}\n",
    "\n",
    "setModuleSpeed(leftFrontData, 0.5);\n",
    "System.out.println(\"leftFrontData: driveId = \" + leftFrontData.get(\"driveId\"));\n",
    "System.out.println(\"leftFrontData: speed = \" + leftFrontData.get(\"speed\"));\n"
   ]
  },
  {
   "cell_type": "code",
   "execution_count": 22,
   "id": "2e94cbf5",
   "metadata": {},
   "outputs": [
    {
     "name": "stdout",
     "output_type": "stream",
     "text": [
      "--- Swerve Module ---\n",
      "name: left front\n",
      "m_driveId: 0\n",
      "m_spinId: 1\n",
      "m_directionId: 99\n",
      "m_speed: 0.0\n",
      "--- Swerve Module ---\n",
      "name: right front\n",
      "m_driveId: 2\n",
      "m_spinId: 3\n",
      "m_directionId: 100\n",
      "m_speed: 0.0\n",
      "leftFront name: left front\n"
     ]
    },
    {
     "ename": "CompilationException",
     "evalue": "",
     "output_type": "error",
     "traceback": [
      "\u001b[1m\u001b[30m|   \u001b[1m\u001b[30m\u001b[0m\u001b[1m\u001b[30m\u001b[41mleftFront.m_speed\u001b[0m\u001b[1m\u001b[30m = 1.0;\u001b[0m",
      "\u001b[1m\u001b[31mm_speed has private access in SwerveModule\u001b[0m",
      ""
     ]
    }
   ],
   "source": [
    "\n",
    "class SwerveModule\n",
    "{\n",
    "    final String m_name;\n",
    "    final long m_driveId;\n",
    "    final long m_spinId;\n",
    "    final long m_directionId;\n",
    "    private double m_speed = 0.0;\n",
    "    \n",
    "    //constructor\n",
    "    SwerveModule(String name, long driveId, long spinId, long directionId)\n",
    "    {\n",
    "        m_name = name;\n",
    "        m_driveId = driveId;\n",
    "        m_spinId = spinId;\n",
    "        m_directionId = directionId;\n",
    "    }\n",
    "    \n",
    "    void setSpeed(double speed)\n",
    "    {\n",
    "        // code to set controller speed\n",
    "        m_speed = speed;\n",
    "    }\n",
    "    \n",
    "    double getSpeed()\n",
    "    {\n",
    "        return m_speed;\n",
    "    }\n",
    "    \n",
    "    void print()\n",
    "    {\n",
    "        System.out.println(\"--- Swerve Module ---\");\n",
    "        System.out.println(\"name: \" + m_name);\n",
    "        System.out.println(\"m_driveId: \" + m_driveId);\n",
    "        System.out.println(\"m_spinId: \" + m_spinId);\n",
    "        System.out.println(\"m_directionId: \" + m_directionId);\n",
    "        System.out.println(\"m_speed: \" + m_speed);\n",
    "    }\n",
    "    \n",
    "}\n",
    "\n",
    "// create some Swerve Module objects\n",
    "SwerveModule leftFront = new SwerveModule(\"left front\", 0, 1, 99);\n",
    "SwerveModule rightFront = new SwerveModule(\"right front\", 2, 3, 100);\n",
    "leftFront.print();\n",
    "rightFront.print();\n",
    "\n",
    "\n",
    "System.out.println(\"leftFront name: \" + leftFront.m_name);\n",
    "\n",
    "//leftFront.m_name = \"a different name\";\n",
    "leftFront.setSpeed(0.5);\n",
    "//leftFront.m_speed = 1.0;\n",
    "leftFront.print();\n",
    "\n"
   ]
  },
  {
   "cell_type": "code",
   "execution_count": null,
   "id": "8e469a2c",
   "metadata": {},
   "outputs": [],
   "source": []
  }
 ],
 "metadata": {
  "kernelspec": {
   "display_name": "Java",
   "language": "java",
   "name": "java"
  },
  "language_info": {
   "codemirror_mode": "java",
   "file_extension": ".jshell",
   "mimetype": "text/x-java-source",
   "name": "Java",
   "pygments_lexer": "java",
   "version": "16.0.1+9-24"
  }
 },
 "nbformat": 4,
 "nbformat_minor": 5
}
