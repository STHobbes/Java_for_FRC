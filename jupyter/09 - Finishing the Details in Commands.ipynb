{
 "cells": [
  {
   "cell_type": "markdown",
   "id": "55a677e6",
   "metadata": {},
   "source": [
    "# Introduction\n",
    "\n",
    "OK we have the basics for building and running `Command`, Let's add a bit to the `Command` class so we have an `initialize()` method to setup the command, an `isFinished()` method to test whether the command is finished, an `end()` that cleans up, and a `schedule()` method that adds the command to the list of commands being run.\n",
    "\n",
    "Once we do that we will explore 3 kinds of commands - one that runs for some number of comman cycles, one that runs for some number milliseconds, and one that lets you build a sequence of commands.\n",
    "\n",
    "# Restart from Last Session\n",
    "\n",
    "When we last left our intrepid programers, this was the `Command` class:"
   ]
  },
  {
   "cell_type": "code",
   "execution_count": 1,
   "id": "6dd34e6f",
   "metadata": {},
   "outputs": [
    {
     "name": "stdout",
     "output_type": "stream",
     "text": [
      "executing: my new command\n"
     ]
    }
   ],
   "source": [
    "// This is a Command class, initially we will just start with a constructor,\n",
    "// naming, and an execute method.\n",
    "class Command\n",
    "{\n",
    "    String m_name;\n",
    "    Command()\n",
    "    {\n",
    "        // By default the name is the class name. If this is called\n",
    "        // from the constructor of an extending class, then the\n",
    "        // class name will be the name of the extending class.\n",
    "        m_name = getClass().getName();\n",
    "        m_name = m_name.substring(m_name.lastIndexOf('$') + 1);\n",
    "    }\n",
    "    \n",
    "    Command setName(String name)\n",
    "    {\n",
    "        m_name = name;\n",
    "        return this;\n",
    "    }\n",
    "    \n",
    "    String getName()\n",
    "    {\n",
    "        return m_name;\n",
    "    }\n",
    "    \n",
    "    void execute()\n",
    "    {\n",
    "        System.out.println(\"executing: \" + m_name);\n",
    "    }\n",
    "}\n",
    "\n",
    "// create and run a command to make sure it works\n",
    "Command command = new Command().setName(\"my new command\");\n",
    "command.execute();"
   ]
  },
  {
   "cell_type": "markdown",
   "id": "0f6a2467",
   "metadata": {},
   "source": [
    "We had started an extension of this to build our own `CountedCommand` class that ran forsome number of command cycles:"
   ]
  },
  {
   "cell_type": "code",
   "execution_count": 2,
   "id": "c583f81b",
   "metadata": {},
   "outputs": [
    {
     "name": "stdout",
     "output_type": "stream",
     "text": [
      "executing: test CountedCommand\n",
      "  stepCt: 1 of 10\n",
      "executing: test CountedCommand\n",
      "  stepCt: 2 of 10\n",
      "executing: test CountedCommand\n",
      "  stepCt: 3 of 10\n"
     ]
    }
   ],
   "source": [
    "class CountedCommand extends Command \n",
    "{\n",
    "    // the step count\n",
    "    long m_stepCt = 0;\n",
    "    // the number of steps we run before we stop\n",
    "    long m_numberOfSteps;\n",
    "    \n",
    "    CountedCommand(long numberOfSteps)\n",
    "    {\n",
    "        super();\n",
    "        m_numberOfSteps = numberOfSteps;\n",
    "    }\n",
    "    \n",
    "    @Override\n",
    "    void execute()\n",
    "    {\n",
    "        super.execute();\n",
    "        m_stepCt += 1;\n",
    "        System.out.println(\"  stepCt: \" + m_stepCt + \" of \" + m_numberOfSteps);\n",
    "    }\n",
    "}\n",
    "\n",
    "// create and run a command to make sure it works\n",
    "Command command = new CountedCommand(10).setName(\"test CountedCommand\");\n",
    "command.execute();\n",
    "command.execute();\n",
    "command.execute();"
   ]
  },
  {
   "cell_type": "markdown",
   "id": "a843832d",
   "metadata": {},
   "source": [
    "And this was the code that ran the command loop:"
   ]
  },
  {
   "cell_type": "code",
   "execution_count": 4,
   "id": "e4283437",
   "metadata": {
    "scrolled": true
   },
   "outputs": [
    {
     "name": "stdout",
     "output_type": "stream",
     "text": [
      "startTime = 1626581925217\n",
      "time = 1626581925365; wanted: 1626581925217\n",
      "executing: cmd1\n",
      "executing: cmd2\n",
      "executing: CountedCommand\n",
      "  stepCt: 1 of 4\n",
      "time = 1626581925367; wanted: 1626581925257\n",
      "executing: cmd1\n",
      "executing: cmd2\n",
      "executing: CountedCommand\n",
      "  stepCt: 2 of 4\n",
      "time = 1626581925368; wanted: 1626581925297\n",
      "executing: cmd1\n",
      "executing: cmd2\n",
      "executing: CountedCommand\n",
      "  stepCt: 3 of 4\n",
      "time = 1626581925369; wanted: 1626581925337\n",
      "executing: cmd1\n",
      "executing: cmd2\n",
      "executing: CountedCommand\n",
      "  stepCt: 4 of 4\n",
      "time = 1626581925379; wanted: 1626581925377\n",
      "executing: cmd1\n",
      "executing: cmd2\n",
      "executing: CountedCommand\n",
      "  stepCt: 5 of 4\n",
      "time = 1626581925417; wanted: 1626581925417\n",
      "executing: cmd1\n",
      "executing: cmd2\n",
      "executing: CountedCommand\n",
      "  stepCt: 6 of 4\n",
      "time = 1626581925458; wanted: 1626581925457\n",
      "executing: cmd1\n",
      "executing: cmd2\n",
      "executing: CountedCommand\n",
      "  stepCt: 7 of 4\n",
      "time = 1626581925501; wanted: 1626581925497\n",
      "executing: cmd1\n",
      "executing: cmd2\n",
      "executing: CountedCommand\n",
      "  stepCt: 8 of 4\n",
      "time = 1626581925537; wanted: 1626581925537\n",
      "executing: cmd1\n",
      "executing: cmd2\n",
      "executing: CountedCommand\n",
      "  stepCt: 9 of 4\n",
      "time = 1626581925579; wanted: 1626581925577\n",
      "executing: cmd1\n",
      "executing: cmd2\n",
      "executing: CountedCommand\n",
      "  stepCt: 10 of 4\n",
      "time = 1626581925620; wanted: 1626581925617\n",
      "executing: cmd1\n",
      "executing: cmd2\n",
      "executing: CountedCommand\n",
      "  stepCt: 11 of 4\n"
     ]
    }
   ],
   "source": [
    "long RUN_TIME = 400;\n",
    "long STEP_TIME = 40;\n",
    "\n",
    "// Setup the timing for running the commands in the loop.\n",
    "long startTime = System.currentTimeMillis();\n",
    "System.out.println(\"startTime = \" + startTime);\n",
    "long endTime = startTime + RUN_TIME;\n",
    "long nextStepEnd = startTime;\n",
    "\n",
    "// setup the command list, and the commands to run the robot\n",
    "List<Command> commandList = new ArrayList<>();\n",
    "commandList.add(new Command().setName(\"cmd1\"));\n",
    "commandList.add(new Command().setName(\"cmd2\"));\n",
    "commandList.add(new CountedCommand(4));\n",
    "\n",
    "while (System.currentTimeMillis() < endTime)\n",
    "{\n",
    "    // control of the step time\n",
    "    long sleepTime = nextStepEnd - System.currentTimeMillis();\n",
    "    if (sleepTime > 0)\n",
    "    {\n",
    "        Thread.sleep(sleepTime);\n",
    "    }\n",
    "    System.out.println(\"time = \" + System.currentTimeMillis() + \"; wanted: \" + nextStepEnd);\n",
    "    nextStepEnd += STEP_TIME;\n",
    "    \n",
    "    Iterator<Command> iter = commandList.iterator();\n",
    "    while (iter.hasNext()) \n",
    "    {\n",
    "        iter.next().execute();\n",
    "    }\n",
    "    \n",
    "}"
   ]
  },
  {
   "cell_type": "markdown",
   "id": "76c800dc",
   "metadata": {},
   "source": [
    "# Finishing the `Command` Class\n",
    "\n",
    "What does *finishing* the `Command` class mean? Here is a partial list of the issues:\n",
    "* If we attach a command to a button, there is no way to reset values to starting\n",
    "  values to get ready for a second button push, so we will add an `initialize()` method\n",
    "  for that. In wpilib, the `initialize()` method is called whenever a command is added\n",
    "  to the command list.\n",
    "* There is no way to stop a command once it is on the command list. In wpilib, at the\n",
    "  beginning of each command set (or cycle) all of the commands are tested using the\n",
    "  `isFinished()` method to see if they are finished. If a command is finished, the\n",
    "  command is removed from the command list and the `end()` method is called so the\n",
    "  command can cleanup.\n",
    "* The `Command` really should not do anything unless every subclass should do it or\n",
    "  it will make the subclass *work* before any methods are written.\n",
    "* Since `Command` is more like a template than a real command, and it does not\n",
    "  do anything - so it is probably a mistake to create a `Command` object, let's not\n",
    "  make `Command` creation possible.\n",
    "\n",
    "Here is our code for *finishing* the `Command` class:"
   ]
  },
  {
   "cell_type": "code",
   "execution_count": null,
   "id": "2c37322f",
   "metadata": {},
   "outputs": [],
   "source": []
  },
  {
   "cell_type": "markdown",
   "id": "79b39adf",
   "metadata": {},
   "source": [
    "# Subclasses, Abstract Classes, Interfaces\n",
    "\n",
    "A discussion about whether there is a shared base implementation (subclasses and abstract classes) - or - just a common way to interact with an object."
   ]
  },
  {
   "cell_type": "markdown",
   "id": "28930eb1",
   "metadata": {},
   "source": [
    "# Finishing our `CountedCommand` Class\n",
    "\n",
    "To finish our `CountedCommand` class we need to implement the methods we just added to the `Command`.\n",
    "\n",
    "Just as a side note, in our 2020-2021 robot the shooter used a pneumatic cylinder to lift the ball\n",
    "from the collection pen into the shooter. The command for that was very much like the `CountedCommand`.\n",
    "The `initialize()` set the cylinder so the lift was down; the `execute()` method set the cylinder so\n",
    "the lift was up; the number of steps the cylinder was up was tuned to be the smallest number that\n",
    "produced reliable delivery; and the `end()` method reset the cylinder so the lift was down and the\n",
    "next ball could roll into position. So while this `CountedCommand` seems a bit like a demonstration\n",
    "command, it is a good start for doing something useful."
   ]
  },
  {
   "cell_type": "code",
   "execution_count": null,
   "id": "24b5741f",
   "metadata": {},
   "outputs": [],
   "source": []
  },
  {
   "cell_type": "markdown",
   "id": "69b987d9",
   "metadata": {},
   "source": [
    "# Making the `Command` Loop a `CommandScheduler`\n",
    "\n",
    "In wpilib the command loop is in a `CommandScheduler` that handles things like adding commands to the list, removing commands from the list either by request or when they finish, and handing subsystem dependencies so there are not multiple commands trying to run the same subsystem. Let's put a `CommandScheduler` class around the command loop\n",
    "so we don't keep copying new versions of it into cells:"
   ]
  },
  {
   "cell_type": "code",
   "execution_count": null,
   "id": "e10a83f2",
   "metadata": {},
   "outputs": [],
   "source": []
  },
  {
   "cell_type": "markdown",
   "id": "617c47d3",
   "metadata": {},
   "source": [
    "# What Happens if we put a Sleep or Loop in a Command?"
   ]
  },
  {
   "cell_type": "markdown",
   "id": "993edd66",
   "metadata": {},
   "source": [
    "# Making Some Cool New Commands"
   ]
  },
  {
   "cell_type": "code",
   "execution_count": null,
   "id": "d5ad3937",
   "metadata": {},
   "outputs": [],
   "source": []
  }
 ],
 "metadata": {
  "kernelspec": {
   "display_name": "Java",
   "language": "java",
   "name": "java"
  },
  "language_info": {
   "codemirror_mode": "java",
   "file_extension": ".jshell",
   "mimetype": "text/x-java-source",
   "name": "Java",
   "pygments_lexer": "java",
   "version": "16.0.1+9-24"
  }
 },
 "nbformat": 4,
 "nbformat_minor": 5
}
