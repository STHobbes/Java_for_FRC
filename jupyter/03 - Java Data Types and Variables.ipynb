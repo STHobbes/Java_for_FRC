{
 "cells": [
  {
   "cell_type": "markdown",
   "id": "bf23ae1c",
   "metadata": {},
   "source": [
    "**Primitive Data Types**\n",
    "\n",
    "Primitive data types are representations of numbers, alpha-numeric characters, and logic that of are part of the definition of the Java language. Primitive data types in most languages are closely related to how these\n",
    "types are represented by the hardware (memory cards) in your computer. Most of the primitive data types exist\n",
    "because memory and computation were very expensive 20 or 30 years ago, so using smaller representations\n",
    "reduced memory use and computation. For FRC robotics programming there is no reason to favor these legacy data types, and I have highlighted the data types that we most commonly use in robotics:\n",
    "\n",
    "* `byte` - a small memory footprint (1 byte) representation of integers\n",
    "  from -128 to 127 - we generally don't worry about memory size for this in robotics, and use **`long`**.\n",
    "* `short` - a small memory footprint (2 byte) representation of integers\n",
    "  from -32,768 to 32,767 - we\n",
    "  generally don't worry about memory size for this in robotics, and use **`long`**.\n",
    "* `int` - a smaller memory footprint (4 byte) representation of integers\n",
    "  from -2,147,483,648 to 2,147,483,647 - we\n",
    "  generally don't worry about memory size for this in robotics, and use **`long`**.\n",
    "* **`long`** (8 byte) represents -9,223,372,036,854,775,808 to 9,223,372,036,854,775,807, has alomost no additional \n",
    "  memory cost, so we normally use this for any integer (whole number) values.\n",
    "* `float` - a smaller memory footprint (4 byte) representation of a real number from 1.4e-45 to 3.4e+38 - we\n",
    "  generally don't worry about memory size for this in robotics, and use **`double`**.\n",
    "* **`double`** - (8 byte) represents 4.9e-324 to 1.8e+308 with a precision of 15 digits and we mostly use this in robotics any time we need a real number.\n",
    "* **`boolean`** - a `true` or `false` value.\n",
    "* `char` - a single alpha-numeric character, which we seldom directly use in robotics. Generally we use\n",
    "  **`String`** when we want a text string. We will talk about that a little later when we talk about what\n",
    "  a **`class`** is.\n",
    "\n",
    "**Variables**\n",
    "\n",
    "Java uses named variables to store (remember) data values. The names must start with an alphabetic\n",
    "character, can be any length, and cannot be Java language keywords. By convention variables start\n",
    "with a lower case letter and are camel case. Variables that are constants are upper case with `'_'`\n",
    "between words. For example a forward speed variable might be named `forwardSpeed` and field position\n",
    "might be `fieldPositionX` and `fieldPositionY`. Constants are something that does not change like\n",
    "`ROBOT_WIDTH` or `ROBOT_LENGTH`. \n",
    "\n",
    "The declaration of a varable is of the form:\n",
    "\n",
    "\\<decorators\\> \\<type\\> \\<variable name\\>;\n",
    "\n",
    "or\n",
    "\n",
    "\\<decorators\\> \\<type\\> \\<variable name\\> = \\<value\\>;\n",
    "\n",
    "The \\<decorators\\> are optional, these are some simple declarations of variables:"
   ]
  },
  {
   "cell_type": "code",
   "execution_count": 5,
   "id": "09d1c5b6",
   "metadata": {},
   "outputs": [
    {
     "name": "stdout",
     "output_type": "stream",
     "text": [
      "encoderTics = 57\n",
      "forwardSpeed = 0.8\n",
      "shooterEnabled = false\n"
     ]
    }
   ],
   "source": [
    "// set some variables\n",
    "long encoderTics = 57;\n",
    "double forwardSpeed = 0.8;\n",
    "boolean shooterEnabled = false;\n",
    "\n",
    "// print the values\n",
    "System.out.println(\"encoderTics = \" + encoderTics);\n",
    "System.out.println(\"forwardSpeed = \" + forwardSpeed);\n",
    "System.out.println(\"shooterEnabled = \" + shooterEnabled);"
   ]
  },
  {
   "cell_type": "markdown",
   "id": "63e63293",
   "metadata": {},
   "source": [
    "Once the variables are declared, their values can be changed:"
   ]
  },
  {
   "cell_type": "code",
   "execution_count": 6,
   "id": "cf941c59",
   "metadata": {},
   "outputs": [
    {
     "name": "stdout",
     "output_type": "stream",
     "text": [
      "encoderTics = -15\n",
      "forwardSpeed = 1.0\n",
      "shooterEnabled = true\n"
     ]
    }
   ],
   "source": [
    "encoderTics = -15;\n",
    "forwardSpeed = 1.0;\n",
    "shooterEnabled = true;\n",
    "\n",
    "// print the values\n",
    "System.out.println(\"encoderTics = \" + encoderTics);\n",
    "System.out.println(\"forwardSpeed = \" + forwardSpeed);\n",
    "System.out.println(\"shooterEnabled = \" + shooterEnabled);"
   ]
  },
  {
   "cell_type": "markdown",
   "id": "394a6151",
   "metadata": {},
   "source": [
    "So what happens if you try to set a variable before you declare it?\n"
   ]
  },
  {
   "cell_type": "code",
   "execution_count": 9,
   "id": "b8eef10b",
   "metadata": {},
   "outputs": [
    {
     "ename": "CompilationException",
     "evalue": "",
     "output_type": "error",
     "traceback": [
      "\u001b[1m\u001b[30m|   \u001b[1m\u001b[30m\u001b[0m\u001b[1m\u001b[30m\u001b[41mtestVariable\u001b[0m\u001b[1m\u001b[30m = 567;\u001b[0m",
      "\u001b[1m\u001b[31mcannot find symbol\u001b[0m",
      "\u001b[1m\u001b[31m  symbol:   variable testVariable\u001b[0m",
      ""
     ]
    }
   ],
   "source": [
    "testVariable = 567;"
   ]
  },
  {
   "cell_type": "markdown",
   "id": "eb2017e6",
   "metadata": {},
   "source": [
    "What happens if you try to set a variable to a value of the wrong data type?"
   ]
  },
  {
   "cell_type": "code",
   "execution_count": 10,
   "id": "b28e522e",
   "metadata": {},
   "outputs": [
    {
     "ename": "CompilationException",
     "evalue": "",
     "output_type": "error",
     "traceback": [
      "\u001b[1m\u001b[30m|   \u001b[1m\u001b[30mencoderTics = \u001b[0m\u001b[1m\u001b[30m\u001b[41mtrue\u001b[0m\u001b[1m\u001b[30m;\u001b[0m",
      "\u001b[1m\u001b[31mincompatible types: boolean cannot be converted to long\u001b[0m",
      ""
     ]
    }
   ],
   "source": [
    "encoderTics = true;"
   ]
  },
  {
   "cell_type": "code",
   "execution_count": 11,
   "id": "8a8e5265",
   "metadata": {},
   "outputs": [
    {
     "ename": "CompilationException",
     "evalue": "",
     "output_type": "error",
     "traceback": [
      "\u001b[1m\u001b[30m|   \u001b[1m\u001b[30mencoderTics = \u001b[0m\u001b[1m\u001b[30m\u001b[41m27.558\u001b[0m\u001b[1m\u001b[30m;\u001b[0m",
      "\u001b[1m\u001b[31mincompatible types: possible lossy conversion from double to long\u001b[0m",
      ""
     ]
    }
   ],
   "source": [
    "encoderTics = 27.558;"
   ]
  },
  {
   "cell_type": "markdown",
   "id": "c0af04c0",
   "metadata": {},
   "source": [
    "Constants are use when you have some value like robot length, robot width, Id of the motor controller on\n",
    "the shooter upper roller, etc. that you will use in multiple places; will be constant the whole time code is running on the robot; but you really don't want to type in the actual value because it may change during the season as\n",
    "things are changed on the robot. If you typed in actual value wherever it was used then making a change would require finding everyplace that number was used, verifying that where that number was used it actually does, for example, refer to the motor controller on the shooter upper roller, and then changing all of those. Changing a constant\n",
    "is far less error prone.\n",
    "\n",
    "When we create constants we use the decorator **`final`** to indicate that the value set is the final value and cannot be changed. For example:"
   ]
  },
  {
   "cell_type": "code",
   "execution_count": 12,
   "id": "0c90f8ca",
   "metadata": {},
   "outputs": [
    {
     "name": "stdout",
     "output_type": "stream",
     "text": [
      "DRIVE_LENGTH = 0.59\n",
      "DRIVE_WIDTH = 0.59\n",
      "SHOOTER_UPPER_ROLLER_MOTOR = 7\n"
     ]
    }
   ],
   "source": [
    "// set some constant variables\n",
    "final double DRIVE_LENGTH = 0.590;\n",
    "final double DRIVE_WIDTH = 0.590;\n",
    "final long SHOOTER_UPPER_ROLLER_MOTOR = 7;\n",
    "\n",
    "// print the values\n",
    "System.out.println(\"DRIVE_LENGTH = \" + DRIVE_LENGTH);\n",
    "System.out.println(\"DRIVE_WIDTH = \" + DRIVE_WIDTH);\n",
    "System.out.println(\"SHOOTER_UPPER_ROLLER_MOTOR = \" + SHOOTER_UPPER_ROLLER_MOTOR);"
   ]
  },
  {
   "cell_type": "markdown",
   "id": "e7c3a5df",
   "metadata": {},
   "source": [
    "What happens if you try to change a constant?"
   ]
  },
  {
   "cell_type": "code",
   "execution_count": 19,
   "id": "f50843e1",
   "metadata": {},
   "outputs": [
    {
     "name": "stdout",
     "output_type": "stream",
     "text": [
      "DRIVE_LENGTH = 0.7\n"
     ]
    }
   ],
   "source": [
    "DRIVE_LENGTH = 0.7;\n",
    "System.out.println(\"DRIVE_LENGTH = \" + DRIVE_LENGTH);"
   ]
  },
  {
   "cell_type": "markdown",
   "id": "f7bd66f9",
   "metadata": {},
   "source": [
    "Well, that's interesting the **`final`** decorator is not observed in this interpreted environment. If\n",
    "I do this in real code in an IDE, the java compiler gives me the error:\n",
    "\n",
    "```\n",
    "java: cannot assign a value to final variable DRIVE_LENGTH\n",
    "```"
   ]
  },
  {
   "cell_type": "code",
   "execution_count": 20,
   "id": "7e2e4d36",
   "metadata": {},
   "outputs": [
    {
     "name": "stdout",
     "output_type": "stream",
     "text": [
      "MAX_SPEED = 0.0\n"
     ]
    }
   ],
   "source": [
    "final double MAX_SPEED;\n",
    "System.out.println(\"MAX_SPEED = \" + MAX_SPEED);"
   ]
  },
  {
   "cell_type": "markdown",
   "id": "9b833254",
   "metadata": {},
   "source": [
    "Again,the **`final`** decorator is not observed in this interpreted environment. If\n",
    "I do this in real code in an IDE, the java compiler gives me the error:\n",
    "\n",
    "```\n",
    "java: variable MAX_SPEED not initialized in the default constructor\n",
    "```"
   ]
  },
  {
   "cell_type": "markdown",
   "id": "21aa07d0",
   "metadata": {},
   "source": [
    "We will revisit this when we start working with the concept of a **`class`**. It may be the case that we just don't have enough context in these examples."
   ]
  },
  {
   "cell_type": "markdown",
   "id": "5cbdc710",
   "metadata": {},
   "source": [
    "**Operators and Math**\n",
    "\n",
    "Data types have operators to help you do things like arithmetic, comparison, and logic.\n",
    "\n",
    "Numbers have the traditional **`+`**, **`-`**, **`*`**, **`/`** operators\n",
    "for addition, subtraction, multiplication, and division. With numbers, there is\n",
    "also a **`Math`** library of common functions like absolute value, trigonometry functions (very useful with\n",
    "the robot inertial navigation board). There are other operators (see\n",
    "[Summary of Operators](https://docs.oracle.com/javase/tutorial/java/nutsandbolts/opsummary.html)),\n",
    "but my view on these is similar\n",
    "to a lot of data types - they are legacy operators primarily related to memory size and computation, and\n",
    "are generally not useful for FRC programming.\n",
    "\n",
    "So let's look at some examples"
   ]
  },
  {
   "cell_type": "code",
   "execution_count": 42,
   "id": "27a497be",
   "metadata": {},
   "outputs": [
    {
     "name": "stdout",
     "output_type": "stream",
     "text": [
      "--------------------\n",
      "2.0 + 4.0 = 6.0\n",
      "two + 4.0 = 6.0\n",
      "two + four = 6.0\n",
      "--------------------\n",
      "5.0 - 4.0 = 1.0\n",
      "five - 4.0 = 1.0\n",
      "five - four = 1.0\n",
      "--------------------\n"
     ]
    }
   ],
   "source": [
    "double two = 2.0;\n",
    "double four = 4.0;\n",
    "double five = 5.0;\n",
    "double twelve = 12.0;\n",
    "\n",
    "System.out.println(\"--------------------\");\n",
    "System.out.println(\"2.0 + 4.0 = \" + (2.0 + 4.0));\n",
    "System.out.println(\"two + 4.0 = \" + (two + 4.0));\n",
    "System.out.println(\"two + four = \" + (two + four));\n",
    "System.out.println(\"--------------------\");\n",
    "System.out.println(\"5.0 - 4.0 = \" + (5.0 - 4.0));\n",
    "System.out.println(\"five - 4.0 = \" + (five - 4.0));\n",
    "System.out.println(\"five - four = \" + (five - four));\n",
    "System.out.println(\"--------------------\");\n"
   ]
  },
  {
   "cell_type": "markdown",
   "id": "9be008b2",
   "metadata": {},
   "source": [
    "There is a particular syntax with math that I found really confusing when I first started programming, and that\n",
    "was the case where I was tracking something like `fieldPositionX` and `fieldPositionY` and in the last command\n",
    "step the robot moved `dX`, and `dY`. And I wanted to update the field position by adding the `dX` and `dY` for\n",
    "this step. So my first solution to this was:"
   ]
  },
  {
   "cell_type": "code",
   "execution_count": 44,
   "id": "7c9d9b8a",
   "metadata": {},
   "outputs": [
    {
     "name": "stdout",
     "output_type": "stream",
     "text": [
      "field position = (0.1,0.3)\n"
     ]
    }
   ],
   "source": [
    "double fieldPositionX = 0.0;\n",
    "double fieldPositionY = 0.0;\n",
    "\n",
    "// look at robot direction and speed and compute the position change\n",
    "double dX = 0.1;\n",
    "double dY = 0.3;\n",
    "\n",
    "// compute the field new positions\n",
    "double newFieldPositionX = fieldPositionX + dX;\n",
    "double newFieldPositionY = fieldPositionY + dY;\n",
    "\n",
    "// set the saved field position to the new position\n",
    "fieldPositionX = newFieldPositionX;\n",
    "fieldPositionY = newFieldPositionY;\n",
    "System.out.println(\"field position = (\" + fieldPositionX + \",\" + fieldPositionY + \")\");"
   ]
  },
  {
   "cell_type": "markdown",
   "id": "15d04bf2",
   "metadata": {},
   "source": [
    "But, there is a condensed form of the last two steps:"
   ]
  },
  {
   "cell_type": "code",
   "execution_count": 45,
   "id": "ee997c52",
   "metadata": {},
   "outputs": [
    {
     "name": "stdout",
     "output_type": "stream",
     "text": [
      "field position = (0.30000000000000004,0.5)\n"
     ]
    }
   ],
   "source": [
    "// look at robot direction and speed and compute the position change\n",
    "double dX = 0.2;\n",
    "double dY = 0.2;\n",
    "\n",
    "// update the saved field position\n",
    "fieldPositionX = fieldPositionX + dX;\n",
    "fieldPositionY = fieldPositionY + dY;\n",
    "System.out.println(\"field position = (\" + fieldPositionX + \",\" + fieldPositionY + \")\");"
   ]
  },
  {
   "cell_type": "markdown",
   "id": "f99f1a37",
   "metadata": {},
   "source": [
    "Two things here:\n",
    "\n",
    "* What does it mean to do `fieldPositionX = fieldPositionX + dX;`? Why is `fieldPositionX` on both sides of the\n",
    "  equation? This can't be valid in any algibra I learned! So, yeah, this is pretty wierd. The right side of the\n",
    "  `=` is evaluated first - it says get the value of `fieldPositionX` from memory (this was 0.1 after the\n",
    "  previous cell), and add `dX` which is 0.2 giving us a result of 0.3, and save it as `fieldPositionX`\n",
    "* The `fieldPositionX` is 0.30000000000000004 not the expected 0.3; what gives? Well, earlier we mentioned that\n",
    "  a **`double`** has about 15 digits of precision. The deal is that we are taking the number (0.2) in the code and\n",
    "  turning it into 64 1's and 0's for the computer - and there will be a little bit of round-off error every time\n",
    "  we do that. This is one reason we like **`double`** for robotics - that there is way less round-off error\n",
    "  than if we use **`float`**. A typical competition is 150 seconds, (2 min, 30 sec) and we update every 20ms\n",
    "  (50 times/second) - so we have 6000 accumulations of error during a competition. Using **`double`** for\n",
    "  every computation reduces the buildup of round-off errors in the 6000 cycles of a competition.\n",
    "  \n",
    "The next step in making the code more compact is to use the **`+=`** operator"
   ]
  },
  {
   "cell_type": "code",
   "execution_count": 46,
   "id": "c48cd403",
   "metadata": {},
   "outputs": [
    {
     "name": "stdout",
     "output_type": "stream",
     "text": [
      "field position = (0.55,1.0)\n"
     ]
    }
   ],
   "source": [
    "// look at robot direction and speed and compute the position change\n",
    "double dX = 0.25;\n",
    "double dY = 0.5;\n",
    "\n",
    "// update the saved field position\n",
    "fieldPositionX += dX;\n",
    "fieldPositionY += dY;\n",
    "System.out.println(\"field position = (\" + fieldPositionX + \",\" + fieldPositionY + \")\");"
   ]
  },
  {
   "cell_type": "markdown",
   "id": "2c27b42b",
   "metadata": {},
   "source": [
    "OK, what just happened there? The **`+=`** assignment says get the value of `fieldPositionX`, add `dX`, and\n",
    "store the result back into `fieldPositionX`. Once you have the secret decoder ring, these compact\n",
    "representations are pretty easy to read amd make a lot of sense."
   ]
  },
  {
   "cell_type": "markdown",
   "id": "1b2e3482",
   "metadata": {},
   "source": [
    "Let's talk a little bit about the **`Math`** library. This library is primarily for **`double`**\n",
    "values. It includes both useful math constants and functions like sine, cosine, tangent, arc-sine,\n",
    "arc-cosine, arc-tangent radian-degree conversions, power, root, and log functions, etc. Let's start\n",
    "by looking at the **`Math.PI`** constant. Note that it follows the convention that the constant name,\n",
    "**`PI`**, is capitalized. NOTE ALSO, if we try to change the value of **`Math.PI`** we get the expected\n",
    "error for editing constants - so, I think the examples in the previous section did not have enough\n",
    "context for the **`final`** decorator to be meaningful."
   ]
  },
  {
   "cell_type": "code",
   "execution_count": 37,
   "id": "b42d6c02",
   "metadata": {},
   "outputs": [
    {
     "name": "stdout",
     "output_type": "stream",
     "text": [
      "Math.PI = 3.141592653589793\n"
     ]
    },
    {
     "ename": "CompilationException",
     "evalue": "",
     "output_type": "error",
     "traceback": [
      "\u001b[1m\u001b[30m|   \u001b[1m\u001b[30m\u001b[0m\u001b[1m\u001b[30m\u001b[41mMath.PI\u001b[0m\u001b[1m\u001b[30m = 4.0;\u001b[0m",
      "\u001b[1m\u001b[31mcannot assign a value to final variable PI\u001b[0m",
      ""
     ]
    }
   ],
   "source": [
    "System.out.println(\"Math.PI = \" + Math.PI);\n",
    "Math.PI = 4.0;"
   ]
  },
  {
   "cell_type": "markdown",
   "id": "31d29103",
   "metadata": {},
   "source": [
    "Let's look at a robot control example where we gat a heading from the NavX, and have a heading we expect\n",
    "the robot to be tracking. It turns out the NavX reports everything in degrees, but we have agreed as a team\n",
    "to use SI notation and express angles in degrees. So suppose we want to compute the heading error (difference\n",
    "between the expected heading and the actual heading) so we can try to correct that in our next command to\n",
    "the drive:"
   ]
  },
  {
   "cell_type": "code",
   "execution_count": 52,
   "id": "9a57a3c1",
   "metadata": {},
   "outputs": [
    {
     "name": "stdout",
     "output_type": "stream",
     "text": [
      "headingError (radians) = -0.26159816339744824\n",
      "headingError (degrees) = -14.988470691047477\n"
     ]
    }
   ],
   "source": [
    "double expectedHeading = 0.5238;\n",
    "double navxHeading = 45.0;\n",
    "\n",
    "double headingError = expectedHeading - Math.toRadians(navxHeading);\n",
    "System.out.println(\"headingError (radians) = \" + headingError);\n",
    "System.out.println(\"headingError (degrees) = \" + Math.toDegrees(headingError));"
   ]
  },
  {
   "cell_type": "markdown",
   "id": "5b08525e",
   "metadata": {},
   "source": [
    "Let's look at another robot control example. The control stick on the gamepad returns 0.0 when centered; -1.0 when full left; and 1.0 when full right. When the stick is halfway towards full right it returns about 0.5 which is what\n",
    "we expect. However, if a driver needs fine control in the heat of competition to line up the robot to score, the driver has trouble moving just a little bit. So the driver wants better control for fine movements.\n",
    "\n",
    "One way to do that is a power function. For example, if I square the input value fronm the stick, 0.0 is still 0.0;\n",
    "1.0 is still 1.0; but the halfway value of 0.5 is now 0.25 - giving better control for small movements. Cool, but if I'm going left -0.5 squared is 0.25, so the robot is going the wrong direction. How do I fix that? or even allow a fractional power like 1.5 or 2.5.\n",
    "\n",
    "Again, the **`Math`** library helps us out:"
   ]
  },
  {
   "cell_type": "code",
   "execution_count": 55,
   "id": "44cd1957",
   "metadata": {},
   "outputs": [
    {
     "name": "stdout",
     "output_type": "stream",
     "text": [
      "useX = -0.25\n"
     ]
    }
   ],
   "source": [
    "double stickX = -0.5;\n",
    "double signMultiplier = Math.signum(stickX);\n",
    "double absStickX = Math.abs(stickX);\n",
    "double useX = Math.pow(absStickX, 2.0) * signMultiplier;\n",
    "\n",
    "System.out.println(\"useX = \" + useX);"
   ]
  },
  {
   "cell_type": "markdown",
   "id": "2e757649",
   "metadata": {},
   "source": [
    "One more thing about math - order of operations and parenthesis. It is often the case that you get\n",
    "a comple math expression like"
   ]
  },
  {
   "cell_type": "code",
   "execution_count": 56,
   "id": "6cc2b7fe",
   "metadata": {},
   "outputs": [
    {
     "data": {
      "text/plain": [
       "-95.35714285714286"
      ]
     },
     "execution_count": 56,
     "metadata": {},
     "output_type": "execute_result"
    }
   ],
   "source": [
    "3.0 * 12.0 / 56.0 - 8.0 * 12.0"
   ]
  },
  {
   "cell_type": "markdown",
   "id": "7619bc26",
   "metadata": {},
   "source": [
    "Which is really confusing there is an order of operations that explains what to expect, but, it\n",
    "is non-obvious, requires you remember the order of obperations and then apply them to figure\n",
    "out what is going on. Use parenthesis so it is clear what the order of oberations isintended to be:"
   ]
  },
  {
   "cell_type": "code",
   "execution_count": 57,
   "id": "0786c34b",
   "metadata": {},
   "outputs": [
    {
     "data": {
      "text/plain": [
       "-0.9"
      ]
     },
     "execution_count": 57,
     "metadata": {},
     "output_type": "execute_result"
    }
   ],
   "source": [
    "(3.0 * 12.0) / (56.0 - (8.0 * 12.0))"
   ]
  }
 ],
 "metadata": {
  "kernelspec": {
   "display_name": "Java",
   "language": "java",
   "name": "java"
  },
  "language_info": {
   "codemirror_mode": "java",
   "file_extension": ".jshell",
   "mimetype": "text/x-java-source",
   "name": "Java",
   "pygments_lexer": "java",
   "version": "14+36-1461"
  }
 },
 "nbformat": 4,
 "nbformat_minor": 5
}
