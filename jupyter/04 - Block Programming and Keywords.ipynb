{
 "cells": [
  {
   "cell_type": "markdown",
   "id": "dfede703",
   "metadata": {},
   "source": [
    "In an earlier session we said that Java is a highly structured language. What we meant is that there is\n",
    "a rigid structure in the language that makes most Java code easy to understand. The Java language spec\n",
    "talks about 3 kinds of code constructs:\n",
    "* expressions - a code fragment that evaluates to a value\n",
    "* satements - a complete thought that always ends with a seicolon\n",
    "* blocks - a set of statements that are always run together\n",
    "\n",
    "Let's explore these in a bit more detail."
   ]
  },
  {
   "cell_type": "markdown",
   "id": "62d3d4c9",
   "metadata": {},
   "source": [
    "**expression** - a code fragment that evaluates to a value. When we assign a value to a variable we use\n",
    "and expression to describe the value. In the notebook, if the last line is an expression, then the value\n",
    "of the expression will be output."
   ]
  },
  {
   "cell_type": "code",
   "execution_count": 1,
   "id": "b616ecb2",
   "metadata": {},
   "outputs": [
    {
     "data": {
      "text/plain": [
       "9"
      ]
     },
     "execution_count": 1,
     "metadata": {},
     "output_type": "execute_result"
    }
   ],
   "source": [
    "// example of an integer expression\n",
    "4+5"
   ]
  },
  {
   "cell_type": "code",
   "execution_count": 2,
   "id": "a83231c7",
   "metadata": {},
   "outputs": [
    {
     "data": {
      "text/plain": [
       "true"
      ]
     },
     "execution_count": 2,
     "metadata": {},
     "output_type": "execute_result"
    }
   ],
   "source": [
    "// example of a conparison which is a boolean expression\n",
    "(4+5) == 9"
   ]
  },
  {
   "cell_type": "code",
   "execution_count": 3,
   "id": "d43ad135",
   "metadata": {},
   "outputs": [
    {
     "data": {
      "text/plain": [
       "false"
      ]
     },
     "execution_count": 3,
     "metadata": {},
     "output_type": "execute_result"
    }
   ],
   "source": [
    "// another example of a boolean expression\n",
    "(5-3) > 5"
   ]
  },
  {
   "cell_type": "code",
   "execution_count": 4,
   "id": "fb235e24",
   "metadata": {},
   "outputs": [
    {
     "data": {
      "text/plain": [
       "30.0"
      ]
     },
     "execution_count": 4,
     "metadata": {},
     "output_type": "execute_result"
    }
   ],
   "source": [
    "// assigning a value to a variable - the '30.0' nin an expression.\n",
    "double height = 30.0;\n",
    "// and the variable is an expression too\n",
    "height"
   ]
  },
  {
   "cell_type": "markdown",
   "id": "5ded657c",
   "metadata": {},
   "source": [
    "*statement* a statement like a comple thought, and ends with either a semicolon or a block. A simple example is\n",
    "the declaration of a variable or an assignment like:"
   ]
  },
  {
   "cell_type": "code",
   "execution_count": 6,
   "id": "47c129ee",
   "metadata": {},
   "outputs": [
    {
     "name": "stdout",
     "output_type": "stream",
     "text": [
      "width = 10.0; height = 10.0\n"
     ]
    }
   ],
   "source": [
    "double width;\n",
    "double height;\n",
    "width = 10.0;\n",
    "height = width;\n",
    "System.out.println(\"width = \" + width + \"; height = \" + height);"
   ]
  },
  {
   "cell_type": "markdown",
   "id": "2b2a5275",
   "metadata": {},
   "source": [
    "There are more complex statements, for example:"
   ]
  },
  {
   "cell_type": "code",
   "execution_count": 8,
   "id": "8b87c55b",
   "metadata": {},
   "outputs": [
    {
     "name": "stdout",
     "output_type": "stream",
     "text": [
      "min = 12.0\n"
     ]
    }
   ],
   "source": [
    "double a = 14.0;\n",
    "double b = 12.0;\n",
    "double min;\n",
    "if (a < b)\n",
    "    min = a;\n",
    "else\n",
    "    min = b;\n",
    "System.out.println(\"min = \" + min);"
   ]
  },
  {
   "cell_type": "markdown",
   "id": "e19cb167",
   "metadata": {},
   "source": [
    "Notice the first two statements both declare a variable and assign a value. I've also introduced the `if else` statement and used indentation to indicate which code goes with the `if` and which goes with the `else`. One could argue that technically the `if (a < b) min = a;` is a stementent and `else mim = b;` is another statement, but\n",
    "we usually think of the `if else` as a single statement.\n",
    "\n",
    "Very often\n",
    "there will be multiple statements that go with the `if` or the `else`, and we bind these together\n",
    "into a **block** using curly braces - `{ }`. Below is an example of codee that might be asociated with a button\n",
    "that starts and stops the shooter:"
   ]
  },
  {
   "cell_type": "code",
   "execution_count": 9,
   "id": "e9154b34",
   "metadata": {},
   "outputs": [
    {
     "name": "stdout",
     "output_type": "stream",
     "text": [
      "shooterEnabled = false\n",
      "shooterSpeed = 0.0\n"
     ]
    }
   ],
   "source": [
    "boolean shooterEnabled = true;\n",
    "double shooterSpeed = 1.0;\n",
    "\n",
    "if (shooterEnabled) {\n",
    "    // shooter is running - stop it\n",
    "    shooterEnabled = false;\n",
    "    shooterSpeed = 0.0;\n",
    "} else {\n",
    "    // shooter is stopped - start it\n",
    "    shooterEnabled = true;\n",
    "    shooterSpeed = 1.0;\n",
    "}\n",
    "System.out.println(\"shooterEnabled = \" + shooterEnabled);\n",
    "System.out.println(\"shooterSpeed = \" + shooterSpeed);"
   ]
  },
  {
   "cell_type": "markdown",
   "id": "dca29ca8",
   "metadata": {},
   "source": [
    "Generally we use the convention for `if else` that we put the code for the `if` and `eise` actions into blocks even\n",
    "if there is only one statement so that the pattern of the code always looks the same, so our first `if else`\n",
    "example would be:"
   ]
  },
  {
   "cell_type": "code",
   "execution_count": 10,
   "id": "a9f7b629",
   "metadata": {},
   "outputs": [
    {
     "name": "stdout",
     "output_type": "stream",
     "text": [
      "min = 12.0\n"
     ]
    }
   ],
   "source": [
    "double a = 14.0;\n",
    "double b = 12.0;\n",
    "double min;\n",
    "if (a < b) {\n",
    "    min = a;\n",
    "} else {\n",
    "    min = b;\n",
    "}\n",
    "System.out.println(\"min = \" + min);"
   ]
  },
  {
   "cell_type": "markdown",
   "id": "8afb57cd",
   "metadata": {},
   "source": [
    "A couple things to thing to note about the `if else` is that the `else` is\n",
    "optional and what is in the prenthesis after the `if` must be a boolean expression\n",
    "that evaluates to `true` or `false`. There is another syntax for a simple `if else` in an assignment that is:\n",
    "\n",
    "*variable* `= (` *boolean expression* `) ? `*value if true*` : `*value if false*` ;`\n",
    "\n",
    "That allows the simple `if else` above to be written more concisely as:"
   ]
  },
  {
   "cell_type": "code",
   "execution_count": 7,
   "id": "09ad53e6",
   "metadata": {},
   "outputs": [
    {
     "name": "stdout",
     "output_type": "stream",
     "text": [
      "min = 12.0\n"
     ]
    }
   ],
   "source": [
    "double a = 14.0;\n",
    "double b = 12.0;\n",
    "double min = (a < b) ? a : b;\n",
    "System.out.println(\"min = \" + min);"
   ]
  },
  {
   "cell_type": "markdown",
   "id": "413f6474",
   "metadata": {},
   "source": [
    "## Conventions\n",
    "\n",
    "Something to note is that the Java compiler uses the `;`, the `{}`, the `()`, operators, and\n",
    "the spaces to decide how to\n",
    "break up the code into statements, expressions variables, etc. New lines, tabs, and space characters are\n",
    "all types of space. So things like putting statements on a single line if possible, consistent indentation,\n",
    "using block conventions consistently, etc. are just that; *conventions* that make it easier to use and\n",
    "maintain code from year to year. We could write the first `if else` example as:"
   ]
  },
  {
   "cell_type": "code",
   "execution_count": 8,
   "id": "129bfe96",
   "metadata": {},
   "outputs": [
    {
     "name": "stdout",
     "output_type": "stream",
     "text": [
      "min = 12.0\n"
     ]
    }
   ],
   "source": [
    "double a=14.0;double    b =12.0\n",
    "    ;double min; if(a     <\n",
    "b) min = a; else\n",
    "    min = b;\n",
    "System.out.println(\"min = \" + min);"
   ]
  },
  {
   "cell_type": "markdown",
   "id": "46d49be5",
   "metadata": {},
   "source": [
    "And it works just fine, but it is really difficult to read and maintain - so try to follow conventions to make everything easier for everyone. BTW - I have worked at organizations where I've seen code like this, and some people code this way - steer clear if you ever run across this."
   ]
  },
  {
   "cell_type": "code",
   "execution_count": null,
   "id": "ff10df62",
   "metadata": {},
   "outputs": [],
   "source": []
  }
 ],
 "metadata": {
  "kernelspec": {
   "display_name": "Java",
   "language": "java",
   "name": "java"
  },
  "language_info": {
   "codemirror_mode": "java",
   "file_extension": ".jshell",
   "mimetype": "text/x-java-source",
   "name": "Java",
   "pygments_lexer": "java",
   "version": "16.0.1+9-24"
  }
 },
 "nbformat": 4,
 "nbformat_minor": 5
}
