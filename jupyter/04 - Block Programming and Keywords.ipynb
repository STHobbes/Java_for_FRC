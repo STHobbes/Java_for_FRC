{
 "cells": [
  {
   "cell_type": "markdown",
   "id": "dfede703",
   "metadata": {},
   "source": [
    "In an earlier session we said that Java is a highly structured language. What we meant is that there is\n",
    "a rigid structure in the language that makes most Java code easy to understand. The Java language spec\n",
    "talks about 3 kinds of code: expressions, satements, and blocks"
   ]
  }
 ],
 "metadata": {
  "kernelspec": {
   "display_name": "Java",
   "language": "java",
   "name": "java"
  },
  "language_info": {
   "codemirror_mode": "java",
   "file_extension": ".jshell",
   "mimetype": "text/x-java-source",
   "name": "Java",
   "pygments_lexer": "java",
   "version": "14+36-1461"
  }
 },
 "nbformat": 4,
 "nbformat_minor": 5
}
