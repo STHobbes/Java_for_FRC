{
 "cells": [
  {
   "cell_type": "markdown",
   "id": "1b4ff337",
   "metadata": {},
   "source": [
    "**Functions** are bits of code that are packaged so you can easily reuse that code from anywhere. Here is an\n",
    "example where I am finding the maximum of two numbers (we often do this when we want to know if any drive\n",
    "motor speed is greater than 1 and we need to scale the speeds), and another where I am clipping a value so it\n",
    "fits within the range 0.0 to 1.0 (we often need to do this when we are tuning parameters):"
   ]
  },
  {
   "cell_type": "code",
   "execution_count": 36,
   "id": "9edbf840",
   "metadata": {},
   "outputs": [
    {
     "name": "stdout",
     "output_type": "stream",
     "text": [
      "maxMotorSpeed = 1.3\n",
      "useValue = 1.0\n"
     ]
    }
   ],
   "source": [
    "// What is the maximum motor speed\n",
    "double rightMotorSpeed = 0.5;\n",
    "double leftMotorSpeed = 1.3;\n",
    "double maxMotorSpeed = rightMotorSpeed > leftMotorSpeed ? rightMotorSpeed : leftMotorSpeed;\n",
    "System.out.println(\"maxMotorSpeed = \" + maxMotorSpeed);\n",
    "\n",
    "// clip a value to be in tha range 0.0 to 1.0\n",
    "double tunedValue = 1.1;\n",
    "double useValue = tunedValue;\n",
    "if (useValue < 0.0) {\n",
    "    useValue = 0.0;\n",
    "}\n",
    "else if (useValue > 1.0) {\n",
    "    useValue = 1.0;\n",
    "}\n",
    "System.out.println(\"useValue = \" + useValue);\n"
   ]
  },
  {
   "cell_type": "markdown",
   "id": "28e7604b",
   "metadata": {},
   "source": [
    "Since these are kinds of things we would do often, we don't want to write that same code everywhere for\n",
    "several reasons:\n",
    "* There would be a lot of repeated code increasing the code we need to maintain;\n",
    "* It would be harder to read the code;\n",
    "* If there is a problem in the code it would be repeated all over the code.\n",
    "\n",
    "This is where a **functions** come into play: In Java, the syntax of a function is:\n",
    "```\n",
    "<access(optional)> <datatype or void> <function name>(<arguments(optional)>)\n",
    "{\n",
    "    // code to do something\n",
    "    <return <data value>; or return;>\n",
    "}\n",
    "```\n",
    "And describing this syntax:\n",
    "* The `<access>` will be explained when we talk about **classes**;\n",
    "* the `<datatype or void>` is that a function can return a value and the datatype for that value must be declared, or\n",
    "  **`void`** should be specified if the operation does not return anything;\n",
    "* the `<function name>` is a name that you make up. by convention it is camel case and should describe\n",
    "  what the function does;\n",
    "* the `<arguments(optional)>` is a comma -separated list of values passed into the function, each argument has\n",
    "  a `datatype` and a name following the camel case convention;\n",
    "* then a block of code ending with a **`return`** of a value of the correct `datatype`.\n",
    "\n",
    "Let's look at functions would be used in the cell above:"
   ]
  },
  {
   "cell_type": "code",
   "execution_count": 45,
   "id": "578e161e",
   "metadata": {},
   "outputs": [
    {
     "name": "stdout",
     "output_type": "stream",
     "text": [
      "maxMotorSpeed = 1.3\n",
      "useValue = 1.0\n"
     ]
    }
   ],
   "source": [
    "// What is the maximum motor speed\n",
    "double max(double value1, double value2)\n",
    "{\n",
    "    return value1 > value2 ? value1 : value2;\n",
    "}\n",
    "\n",
    "double rightMotorSpeed = 0.5;\n",
    "double leftMotorSpeed = 1.3;\n",
    "double maxMotorSpeed = max(rightMotorSpeed,leftMotorSpeed);\n",
    "System.out.println(\"maxMotorSpeed = \" + maxMotorSpeed);\n",
    "\n",
    "// clip a value to be in tha range 0.0 to 1.0\n",
    "double clip(double value)\n",
    "{\n",
    "    if (value < 0.0) {\n",
    "        value = 0.0;\n",
    "    }\n",
    "    else if (value > 1.0) {\n",
    "        value = 1.0;\n",
    "    }\n",
    "    return value;\n",
    "}\n",
    "double tunedValue = 1.1;\n",
    "double useValue = clip(1.1);\n",
    "System.out.println(\"useValue = \" + useValue);\n"
   ]
  },
  {
   "cell_type": "markdown",
   "id": "23888820",
   "metadata": {},
   "source": [
    "A function can have multiple returns:"
   ]
  },
  {
   "cell_type": "code",
   "execution_count": 46,
   "id": "5528f80f",
   "metadata": {},
   "outputs": [
    {
     "name": "stdout",
     "output_type": "stream",
     "text": [
      "useValue = 1.0\n"
     ]
    }
   ],
   "source": [
    "// clip a value to be in tha range 0.0 to 1.0\n",
    "double clip(double value)\n",
    "{\n",
    "    if (value < 0.0) {\n",
    "        return 0.0;\n",
    "    }\n",
    "    else if (value > 1.0) {\n",
    "        return 1.0;\n",
    "    }\n",
    "    return value;\n",
    "}\n",
    "double tunedValue = 1.1;\n",
    "double useValue = clip(1.1);\n",
    "System.out.println(\"useValue = \" + useValue);\n"
   ]
  },
  {
   "cell_type": "markdown",
   "id": "ded98876",
   "metadata": {},
   "source": [
    "When we make functions, we should think about the versatility of the function. For example, if we\n",
    "find we are sometimes clipping to a range other than 0.0 to 1.0 we can specify the range in the\n",
    "arguments:"
   ]
  },
  {
   "cell_type": "code",
   "execution_count": 48,
   "id": "9aac9c48",
   "metadata": {},
   "outputs": [
    {
     "name": "stdout",
     "output_type": "stream",
     "text": [
      "clip(1.1, 0.0, 1.0) = 1.0\n",
      "clip(1.1, 0.5, 1.0) = 1.0\n",
      "clip(1.1, 0.0, 0.5) = 0.5\n",
      "clip(1.1, 0.0, 2.0) = 1.1\n"
     ]
    }
   ],
   "source": [
    "// clip a value to be in tha range min to max\n",
    "double clip(double value, double min, double max)\n",
    "{\n",
    "    if (value < min) {\n",
    "        return min;\n",
    "    }\n",
    "    else if (value > max) {\n",
    "        return max;\n",
    "    }\n",
    "    return value;\n",
    "}\n",
    "System.out.println(\"clip(1.1, 0.0, 1.0) = \" + clip(1.1, 0.0, 1.0));\n",
    "System.out.println(\"clip(1.1, 0.5, 1.0) = \" + clip(1.1, 0.5, 1.0));\n",
    "System.out.println(\"clip(1.1, 0.0, 0.5) = \" + clip(1.1, 0.0, 0.5));\n",
    "System.out.println(\"clip(1.1, 0.0, 2.0) = \" + clip(1.1, 0.0, 2.0));"
   ]
  },
  {
   "cell_type": "markdown",
   "id": "a468c8e7",
   "metadata": {},
   "source": [
    "**Advanced Concept:** The combination of name, arguments, and return datatype are refered to as the signature\n",
    "of the function and must be unique. In the case above, we might note that we occasionaly clip to some\n",
    "range other than 0.0 to 1.0 - so, we would like a version, `clip(double value)` that clips to 0.0 to 1.0\n",
    "by default. Note that this is a different signature because the arguments are different, so it would be valid\n",
    "Java to have both forms as:"
   ]
  },
  {
   "cell_type": "code",
   "execution_count": 49,
   "id": "8bcef700",
   "metadata": {},
   "outputs": [
    {
     "name": "stdout",
     "output_type": "stream",
     "text": [
      "clip(1.1, 0.0, 1.0) = 1.0\n",
      "clip(1.1, 0.5, 1.0) = 1.0\n",
      "clip(1.1, 0.0, 0.5) = 0.5\n",
      "clip(1.1, 0.0, 2.0) = 1.1\n",
      "clip(-0.1) = 0.0\n",
      "clip(0.5) = 0.5\n",
      "clip(1.0) = 1.0\n",
      "clip(2.5) = 1.0\n"
     ]
    }
   ],
   "source": [
    "// clip a value to be in the range 0.0 to 1.0\n",
    "double clip(double value)\n",
    "{\n",
    "    return clip(value, 0.0, 1.0);\n",
    "}\n",
    "// clip a value to be in the range min to max\n",
    "double clip(double value, double min, double max)\n",
    "{\n",
    "    if (value < min) {\n",
    "        return min;\n",
    "    }\n",
    "    else if (value > max) {\n",
    "        return max;\n",
    "    }\n",
    "    return value;\n",
    "}\n",
    "\n",
    "System.out.println(\"clip(1.1, 0.0, 1.0) = \" + clip(1.1, 0.0, 1.0));\n",
    "System.out.println(\"clip(1.1, 0.5, 1.0) = \" + clip(1.1, 0.5, 1.0));\n",
    "System.out.println(\"clip(1.1, 0.0, 0.5) = \" + clip(1.1, 0.0, 0.5));\n",
    "System.out.println(\"clip(1.1, 0.0, 2.0) = \" + clip(1.1, 0.0, 2.0));\n",
    "\n",
    "System.out.println(\"clip(-0.1) = \" + clip(-0.1));\n",
    "System.out.println(\"clip(0.5) = \" + clip(0.5));\n",
    "System.out.println(\"clip(1.0) = \" + clip(1.0));\n",
    "System.out.println(\"clip(2.5) = \" + clip(2.5));\n"
   ]
  },
  {
   "cell_type": "markdown",
   "id": "40a2c60a",
   "metadata": {},
   "source": [
    "**Note:** It is best practice when you have multiple signature for the same functionality:\n",
    "* to use the same function name;\n",
    "* to put as much of the code as possible in the function that takes all the \n",
    "  arguments, which lets you exhaustively test only one function;\n",
    "* to make the the alternate methods simple wrappers that defer to the method with\n",
    "  the actual code for the operation."
   ]
  },
  {
   "cell_type": "code",
   "execution_count": 33,
   "id": "41909b69",
   "metadata": {},
   "outputs": [
    {
     "name": "stdout",
     "output_type": "stream",
     "text": [
      "Module Right Front:\n",
      "   driveMotorID = 0\n",
      "   spinMotorID 1\n",
      "   analogEncoderId 10\n",
      "   speed 0.5\n",
      "   NavxID 55\n",
      "Module Left Front:\n",
      "   driveMotorID = 2\n",
      "   spinMotorID 3\n",
      "   analogEncoderId 11\n",
      "   speed 0.0\n",
      "   NavxID 55\n"
     ]
    },
    {
     "ename": "CompilationException",
     "evalue": "",
     "output_type": "error",
     "traceback": [
      "\u001b[1m\u001b[30m|   \u001b[1m\u001b[30m\u001b[0m\u001b[1m\u001b[30m\u001b[41mrightFront.m_power\u001b[0m\u001b[1m\u001b[30m = 0.75;\u001b[0m",
      "\u001b[1m\u001b[31mm_power has private access in SwerveModule\u001b[0m",
      ""
     ]
    }
   ],
   "source": [
    "class SwerveModule {\n",
    "\n",
    "    static long s_NavxID = 12;\n",
    "    \n",
    "    public static void setNavxID(long NavxID)\n",
    "    {\n",
    "        s_NavxID = NavxID;\n",
    "    }\n",
    "    \n",
    "    // ============\n",
    "    \n",
    "    final String m_name;\n",
    "    final long m_driveMotorID;\n",
    "    final long m_spinMotorID;\n",
    "    final long m_analogEncoderId;\n",
    "    \n",
    "    private double m_power = 0.0;\n",
    "\n",
    "    public SwerveModule(String name, long driveMotorID, long spinMotorID, long analogEncoderId)\n",
    "    {\n",
    "        m_name = name;\n",
    "        m_driveMotorID = driveMotorID;\n",
    "        m_spinMotorID = spinMotorID;\n",
    "        m_analogEncoderId = analogEncoderId;\n",
    "    }\n",
    "    \n",
    "    public void setPower(double power)\n",
    "    {\n",
    "        double motorControllerValue = 2 * power;\n",
    "        // set motor controller power\n",
    "        //\n",
    "        m_power = power;\n",
    "    }\n",
    "    \n",
    "    public void printInfo()\n",
    "    {\n",
    "        System.out.println(\"Module \" + m_name + \":\");\n",
    "        System.out.println(\"   driveMotorID = \" + m_driveMotorID);\n",
    "        System.out.println(\"   spinMotorID \" + m_spinMotorID);\n",
    "        System.out.println(\"   analogEncoderId \" + m_analogEncoderId);\n",
    "        System.out.println(\"   speed \" + m_power);\n",
    "        System.out.println(\"   NavxID \" + s_NavxID);\n",
    "    }\n",
    "}\n",
    "\n",
    "SwerveModule rightFront = new SwerveModule(\"Right Front\", 0, 1, 10);\n",
    "SwerveModule leftFront = new SwerveModule(\"Left Front\", 2, 3, 11);\n",
    "rightFront.setPower(0.5);\n",
    "SwerveModule.setNavxID(55);\n",
    "rightFront.printInfo();\n",
    "leftFront.printInfo();\n",
    "\n",
    "\n",
    "long rfd = rightFront.m_driveMotorID;\n",
    "// rightFront.driveMotorID = 5;\n",
    "rightFront.m_power = 0.75;\n",
    "rightFront.printInfo();\n"
   ]
  },
  {
   "cell_type": "code",
   "execution_count": null,
   "id": "4db95cd9",
   "metadata": {},
   "outputs": [],
   "source": []
  }
 ],
 "metadata": {
  "kernelspec": {
   "display_name": "Java",
   "language": "java",
   "name": "java"
  },
  "language_info": {
   "codemirror_mode": "java",
   "file_extension": ".jshell",
   "mimetype": "text/x-java-source",
   "name": "Java",
   "pygments_lexer": "java",
   "version": "16.0.1+9-24"
  }
 },
 "nbformat": 4,
 "nbformat_minor": 5
}
