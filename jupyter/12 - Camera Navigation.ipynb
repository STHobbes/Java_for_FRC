{
 "cells": [
  {
   "cell_type": "markdown",
   "id": "58b3c1ce",
   "metadata": {},
   "source": [
    "Last year we started to work on camera navigation last year when we had the\n",
    "limelight target on the shooting goal. We toyed with the iead that we could use this\n",
    "to compute our field position and use that as position feedback for path following. We\n",
    "did not get very far on that, so it seemed like now is a good opportunity to learn\n",
    "more about that.\n",
    "\n",
    "Our camera has some interesting aspects that make the math around navigation a\n",
    "bit challenging. We will get to that in a bit. We will start by defining some constants\n",
    "that locate the camera relative to the robot. Specifically, we use the coordinate system\n",
    "that (0,0,0) is on the ground under the center of the robot; +X is toward the right,\n",
    "+Y is towards the front, and +Z is up:"
   ]
  },
  {
   "cell_type": "code",
   "execution_count": 19,
   "id": "aa6e992e",
   "metadata": {},
   "outputs": [],
   "source": [
    "/* The Z position (relative to the robot) of the limelight lens in meters. */\n",
    "double LIMELIGHT_HEIGHT = .52;\n",
    "/* The elevation angle of the camera relative to the XY plane (the floor) in radians. */\n",
    "double LIMELIGHT_ELEV_ANGLE = 0.337;\n",
    "/* The X position (relative to the robot) of the limelight lens in meters. */\n",
    "double LIMELIGHT_X_OFFSET = -0.20;\n",
    "/* The Y position (relative to the robot) of the limelight lens in meters. */\n",
    "double LIMELIGHT_Y_OFFSET = 0.14;\n",
    "\n",
    "/* The hieght of the target above the floor */\n",
    "double TARGET_HEIGHT = 1.205;\n",
    "\n",
    "double target_distance = 1.955;\n",
    "\n",
    "double direct_distance = 1.07;\n",
    "\n",
    "double target_delta = Math.toRadians(7.26);\n",
    "double new_target_delta = Math.toRadians(13.98);\n"
   ]
  },
  {
   "cell_type": "markdown",
   "id": "1000f915",
   "metadata": {},
   "source": [
    "We calibrate the elevation angle by moving the robot until the target is directly centered\n",
    "on the limelight, then we measure the horizontal distance (parallel to the floor), and the actual distance between the lens and the center of the target. We use the Pathagorean therem to make sure we have these measurements close to a right triangle; and then use\n",
    "the `Math.atan2` method to compute the `LIMELIGHT_ELEV_ANGLE`"
   ]
  },
  {
   "cell_type": "code",
   "execution_count": 13,
   "id": "087123bb",
   "metadata": {},
   "outputs": [
    {
     "data": {
      "text/plain": [
       "2.0715332485866598"
      ]
     },
     "execution_count": 13,
     "metadata": {},
     "output_type": "execute_result"
    }
   ],
   "source": [
    "double a = target_distance;\n",
    "double b = TARGET_HEIGHT - LIMELIGHT_HEIGHT;\n",
    "Math.sqrt((a*a) + (b*b));\n"
   ]
  },
  {
   "cell_type": "code",
   "execution_count": 14,
   "id": "882fb4c9",
   "metadata": {},
   "outputs": [
    {
     "data": {
      "text/plain": [
       "0.33701654394342206"
      ]
     },
     "execution_count": 14,
     "metadata": {},
     "output_type": "execute_result"
    }
   ],
   "source": [
    "double elev = Math.atan2(b,a);\n",
    "Math.toDegrees(elev);\n",
    "elev"
   ]
  },
  {
   "cell_type": "code",
   "execution_count": 15,
   "id": "c0d27995",
   "metadata": {},
   "outputs": [
    {
     "data": {
      "text/plain": [
       "1.3697832431119432"
      ]
     },
     "execution_count": 15,
     "metadata": {},
     "output_type": "execute_result"
    }
   ],
   "source": [
    "b / Math.tan(LIMELIGHT_ELEV + target_delta);"
   ]
  },
  {
   "cell_type": "code",
   "execution_count": 18,
   "id": "62fa3fc3",
   "metadata": {},
   "outputs": [
    {
     "data": {
      "text/plain": [
       "1.043262050559926"
      ]
     },
     "execution_count": 18,
     "metadata": {},
     "output_type": "execute_result"
    }
   ],
   "source": [
    "double limelight_dist = b / Math.tan(LIMELIGHT_ELEV + new_target_delta);\n",
    "limelight_dist"
   ]
  },
  {
   "cell_type": "code",
   "execution_count": 20,
   "id": "dcdc52f7",
   "metadata": {},
   "outputs": [
    {
     "data": {
      "text/plain": [
       "1.2000454492623522"
      ]
     },
     "execution_count": 20,
     "metadata": {},
     "output_type": "execute_result"
    }
   ],
   "source": [
    "double y_dist = limelight_dist + LIMELIGHT_Y_OFFSET;\n",
    "double x_dist = LIMELIGHT_X_OFFSET;\n",
    "double robot_distance = Math.sqrt((y_dist*y_dist) + (x_dist*x_dist));\n",
    "robot_distance"
   ]
  },
  {
   "cell_type": "code",
   "execution_count": 22,
   "id": "57dc4558",
   "metadata": {},
   "outputs": [
    {
     "data": {
      "text/plain": [
       "-9.593701436832506"
      ]
     },
     "execution_count": 22,
     "metadata": {},
     "output_type": "execute_result"
    }
   ],
   "source": [
    "double robot_offset = Math.atan2(x_dist, y_dist);\n",
    "Math.toDegrees(robot_offset)"
   ]
  },
  {
   "cell_type": "code",
   "execution_count": 23,
   "id": "ba6b52f6",
   "metadata": {},
   "outputs": [],
   "source": [
    "double rot_target_x = Math.toRadians(-11.92);\n",
    "double rot_target_y = Math.toRadians(10.39);"
   ]
  },
  {
   "cell_type": "code",
   "execution_count": 27,
   "id": "84e0da78",
   "metadata": {},
   "outputs": [
    {
     "data": {
      "text/plain": [
       "1.200997245634432"
      ]
     },
     "execution_count": 27,
     "metadata": {},
     "output_type": "execute_result"
    }
   ],
   "source": [
    "double limelight_dist = b / Math.tan(LIMELIGHT_ELEV + rot_target_y);\n",
    "limelight_dist"
   ]
  },
  {
   "cell_type": "code",
   "execution_count": null,
   "id": "56cf35c4",
   "metadata": {},
   "outputs": [],
   "source": []
  }
 ],
 "metadata": {
  "kernelspec": {
   "display_name": "Java",
   "language": "java",
   "name": "java"
  },
  "language_info": {
   "codemirror_mode": "java",
   "file_extension": ".jshell",
   "mimetype": "text/x-java-source",
   "name": "Java",
   "pygments_lexer": "java",
   "version": "11.0.6+8-LTS"
  }
 },
 "nbformat": 4,
 "nbformat_minor": 5
}
