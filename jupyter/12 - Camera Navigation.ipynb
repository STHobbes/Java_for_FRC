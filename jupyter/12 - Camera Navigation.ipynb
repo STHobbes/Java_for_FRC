{
 "cells": [
  {
   "cell_type": "markdown",
   "id": "58b3c1ce",
   "metadata": {},
   "source": [
    "# Camera Navigation\n",
    "\n",
    "Last year we started to work on camera navigation last year when we had the\n",
    "limelight target on the shooting goal. We toyed with the iead that we could use this\n",
    "to compute our field position and use that as position feedback for path following. We\n",
    "did not get very far on that, so it seemed like now is a good opportunity to learn\n",
    "more about that.\n",
    "\n",
    "Our camera has some interesting aspects that make the math around navigation a\n",
    "bit challenging. We will get to that in a bit. We will start by defining some constants\n",
    "that locate the camera relative to the robot. Specifically, we use the coordinate system\n",
    "that (0,0,0) is on the ground under the center of the robot; +X is toward the right,\n",
    "+Y is towards the front, and +Z is up:"
   ]
  },
  {
   "cell_type": "code",
   "execution_count": 2,
   "id": "aa6e992e",
   "metadata": {},
   "outputs": [
    {
     "name": "stdout",
     "output_type": "stream",
     "text": [
      "LIMELIGHT_HEIGHT = 0.52m (20.472452\")\n",
      "LIMELIGHT_ELEV_ANGLE = 0.337rad (19.308677695908745deg)\n",
      "LIMELIGHT_X_OFFSET = -0.2m (-7.874020000000001\")\n",
      "LIMELIGHT_Y_OFFSET = 0.14m (5.511814\")\n",
      "TARGET_HEIGHT = 1.205m (47.440970500000006\")\n"
     ]
    }
   ],
   "source": [
    "/* The Z position (relative to the robot) of the limelight lens in meters. */\n",
    "double LIMELIGHT_HEIGHT = .52;\n",
    "/* The elevation angle of the camera relative to the XY plane (the floor) in radians. */\n",
    "double LIMELIGHT_ELEV_ANGLE = 0.337;\n",
    "/* The X position (relative to the robot) of the limelight lens in meters. */\n",
    "double LIMELIGHT_X_OFFSET = -0.20;\n",
    "/* The Y position (relative to the robot) of the limelight lens in meters. */\n",
    "double LIMELIGHT_Y_OFFSET = 0.14;\n",
    "\n",
    "/* The hieght of the target above the floor */\n",
    "double TARGET_HEIGHT = 1.205;\n",
    "\n",
    "// Just print out a little info here for later reference\n",
    "double toInches(double meters) {\n",
    "    return meters * 39.3701;\n",
    "}\n",
    "\n",
    "System.out.println(\"LIMELIGHT_HEIGHT = \" + LIMELIGHT_HEIGHT + \"m (\" + toInches(LIMELIGHT_HEIGHT) + \"\\\")\");\n",
    "System.out.println(\"LIMELIGHT_ELEV_ANGLE = \" + LIMELIGHT_ELEV_ANGLE + \"rad (\" +\n",
    "                   Math.toDegrees(LIMELIGHT_ELEV_ANGLE) + \"deg)\");\n",
    "System.out.println(\"LIMELIGHT_X_OFFSET = \" + LIMELIGHT_X_OFFSET + \"m (\" + toInches(LIMELIGHT_X_OFFSET) + \"\\\")\");\n",
    "System.out.println(\"LIMELIGHT_Y_OFFSET = \" + LIMELIGHT_Y_OFFSET + \"m (\" + toInches(LIMELIGHT_Y_OFFSET) + \"\\\")\");\n",
    "System.out.println(\"TARGET_HEIGHT = \" + TARGET_HEIGHT + \"m (\" + toInches(TARGET_HEIGHT) + \"\\\")\");\n"
   ]
  },
  {
   "cell_type": "markdown",
   "id": "1000f915",
   "metadata": {},
   "source": [
    "We calibrate the elevation angle by moving the robot until the target is directly centered\n",
    "on the limelight, then we measure the horizontal distance (parallel to the floor), and the actual distance between the lens and the center of the target. We use the pythagorean theorem to make sure we have these measurements close to a right triangle; and then use\n",
    "the `Math.atan2()` method to compute the `LIMELIGHT_ELEV_ANGLE`.\n",
    "\n",
    "The geometry looks like this:\n",
    "![alt text](./resources/limelight_side_geom.jpg \"limelight side view\")"
   ]
  },
  {
   "cell_type": "code",
   "execution_count": 3,
   "id": "087123bb",
   "metadata": {},
   "outputs": [
    {
     "data": {
      "text/plain": [
       "2.0715332485866598"
      ]
     },
     "execution_count": 3,
     "metadata": {},
     "output_type": "execute_result"
    }
   ],
   "source": [
    "// method to compute the hypotenuse of a right triangle\n",
    "double computeHypotenuse(double a, double b)\n",
    "{\n",
    "    return Math.sqrt((a*a) + (b*b));\n",
    "}\n",
    "\n",
    "// the measured target distance (parallel to the floor)\n",
    "double target_distance = 1.955;\n",
    "// the measured limelight lens to target distance\n",
    "double lens_to_target_distance = 2.07;\n",
    "\n",
    "// compute the hypotenuse from the measuers geometry\n",
    "computeHypotenuse(TARGET_HEIGHT - LIMELIGHT_HEIGHT, target_distance);"
   ]
  },
  {
   "cell_type": "markdown",
   "id": "5949500e",
   "metadata": {},
   "source": [
    "OK, this is really good. The computed hypotenuse is almost exactly equal to our measured hypotenuse\n",
    "`lens_to_target_distance = 2.07`, so now that we have the geometry that puts the target exactly in the\n",
    "center of the limelight image we can compute the `LIMELIGHT_ELEV_ANGLE`:"
   ]
  },
  {
   "cell_type": "code",
   "execution_count": 4,
   "id": "882fb4c9",
   "metadata": {},
   "outputs": [
    {
     "name": "stdout",
     "output_type": "stream",
     "text": [
      "limelight elevation in radians = 0.33701654394342206\n",
      "limelight elevation in degrees = 19.30962559404333\n"
     ]
    }
   ],
   "source": [
    "double elev = Math.atan2(TARGET_HEIGHT - LIMELIGHT_HEIGHT, target_distance);\n",
    "System.out.println(\"limelight elevation in radians = \" + elev);\n",
    "System.out.println(\"limelight elevation in degrees = \" + Math.toDegrees(elev));"
   ]
  },
  {
   "cell_type": "markdown",
   "id": "a63f15de",
   "metadata": {},
   "source": [
    "So this gives us the `LIMELIGHT_ELEV_ANGLE` that is set in the constants. This is a far more accurate method\n",
    "to determine the elevation angle than trying to physically measure it with a protractor.\n",
    "\n",
    "## Simple Distance from Limelight to Target\n",
    "\n",
    "Now that we have our constants in place we need to veryify the accuracy by doing a little testing by moving the robot and computing the distance using the Y angle reported by the limelight. Let's add a bit to the geometry diagram to explain this:\n",
    "![alt text](./resources/simple_distance.jpg \"simple distance with limelight\")\n",
    "\n",
    "We know `LIMELIGHT_ELEV_ANGLE`, the limelight reports the `target_delta`, and\n",
    "\n",
    "` a = TARGET_HEIGHT - LIMELIGHT_HEIGHT`\n",
    "\n",
    "which lets us comute the `b` or `target_distance` as `a / Math.tan(LIMELIGHT_ELEV + new_target_delta);`\n",
    "\n",
    "So let's look at a new position with a `target_delta` of 7.26&deg;, which we need to convert to radians:"
   ]
  },
  {
   "cell_type": "code",
   "execution_count": 6,
   "id": "f52308a5",
   "metadata": {},
   "outputs": [
    {
     "data": {
      "text/plain": [
       "1.3697832431119432"
      ]
     },
     "execution_count": 6,
     "metadata": {},
     "output_type": "execute_result"
    }
   ],
   "source": [
    "double target_delta = Math.toRadians(7.26);\n",
    "(TARGET_HEIGHT - LIMELIGHT_HEIGHT) / Math.tan(LIMELIGHT_ELEV_ANGLE + target_delta);"
   ]
  },
  {
   "cell_type": "markdown",
   "id": "09cf6b56",
   "metadata": {},
   "source": [
    "And, this is very close (within 1cm) to the distance we measure.\n",
    "\n",
    "So, let's turn this into a method that returns distance as a function of `target_delta`, verify that it works for this position, and the try a new position:"
   ]
  },
  {
   "cell_type": "code",
   "execution_count": 7,
   "id": "c0d27995",
   "metadata": {},
   "outputs": [
    {
     "data": {
      "text/plain": [
       "1.3697832431119432"
      ]
     },
     "execution_count": 7,
     "metadata": {},
     "output_type": "execute_result"
    }
   ],
   "source": [
    "double getTargetDistance(double target_delta)\n",
    "{\n",
    "    return (TARGET_HEIGHT - LIMELIGHT_HEIGHT) / Math.tan(LIMELIGHT_ELEV_ANGLE + target_delta);\n",
    "}\n",
    "\n",
    "target_distance = getTargetDistance(target_delta);\n",
    "target_distance"
   ]
  },
  {
   "cell_type": "markdown",
   "id": "b1225de9",
   "metadata": {},
   "source": [
    "This is good, the `get_target_distance()` is returning the correct value. Let's reposition the robot for\n",
    "a second verification - in this case with a `target_delta` of 13.98&deg;:"
   ]
  },
  {
   "cell_type": "code",
   "execution_count": 8,
   "id": "62fa3fc3",
   "metadata": {},
   "outputs": [
    {
     "data": {
      "text/plain": [
       "1.043262050559926"
      ]
     },
     "execution_count": 8,
     "metadata": {},
     "output_type": "execute_result"
    }
   ],
   "source": [
    "double new_target_delta = Math.toRadians(13.98);\n",
    "target_distance = getTargetDistance(new_target_delta);\n",
    "target_distance"
   ]
  },
  {
   "cell_type": "markdown",
   "id": "3fa4d17f",
   "metadata": {},
   "source": [
    "Which again is very close to the measured value!!! Yay, progress."
   ]
  },
  {
   "cell_type": "markdown",
   "id": "d4db2504",
   "metadata": {},
   "source": [
    "## Where Are We Going With This?\n",
    "\n",
    "We have initial success in accurately computing distance to the target when the camera is centered on the target,\n",
    "what's next? What we really want to know is whether we can use a target (or targets), with known position(s) and\n",
    "height(s) on the field, to compute the the robot position on the field.\n",
    "\n",
    "Let's diagram this. The first thing is that we have been looking at seeing a target from the reference frame\n",
    "of the camera, and computing the horizontal distance (parallel to the playing field):\n",
    "![alt text](./resources/camera_relative.jpg \"target relative to limelight\")\n",
    "\n",
    "The next thing we need to do is convert from camera relative to robot relative, so we have a target distance\n",
    "from the origin of the of the robot axis system to the target and a direction masured from the Y axis of the robot:\n",
    "![alt text](./resources/robot_relative.jpg \"target relative to robot\")\n",
    "\n",
    "Once we know where the target is relative to the robot, we need to use that information to determine the\n",
    "position of the robot on the field. Note that we get the `robotHeading` from the NavX, and this let's\n",
    "us get the angle from the target to the robot, and sice we have the distance, it should be easy to compute robot position on the field:\n",
    "![alt text](./resources/field_relative.jpg \"robot relative to the field\")\n",
    "\n",
    "This gives us a couple challenges:\n",
    "* The robot may not always be facing the target so it is centered in the limelight screen, can we cope with\n",
    "  that? Which really means we need to figure whether out our distance calculation is accurate when the target\n",
    "  is off-center, and, if not, how do we we fix the distance calculation.\n",
    "* The limelight is not on the center of the robot, how do we use the limelight offsets to compute the position\n",
    "  of the robot center on the field.\n",
    "* Currently the robot heading is also the limelight heading (though there could be a heading offset if the\n",
    "  robot is modified). How does that factor into determining the field position of the robot?\n",
    "  \n",
    "Our first experiment was turning the robot so the limelight was not centered on the target."
   ]
  },
  {
   "cell_type": "code",
   "execution_count": 9,
   "id": "ba6b52f6",
   "metadata": {},
   "outputs": [
    {
     "name": "stdout",
     "output_type": "stream",
     "text": [
      "rot_target_x in radians = -0.20804324683772407\n",
      "rot_target_y in radians = 0.18133970928221085\n"
     ]
    },
    {
     "data": {
      "text/plain": [
       "1.200997245634432"
      ]
     },
     "execution_count": 9,
     "metadata": {},
     "output_type": "execute_result"
    }
   ],
   "source": [
    "double rot_target_x = Math.toRadians(-11.92);\n",
    "double rot_target_y = Math.toRadians(10.39);\n",
    "System.out.println(\"rot_target_x in radians = \" + rot_target_x);\n",
    "System.out.println(\"rot_target_y in radians = \" + rot_target_y);\n",
    "target_distance = getTargetDistance(rot_target_y);\n",
    "target_distance"
   ]
  },
  {
   "cell_type": "markdown",
   "id": "d9b7cb23",
   "metadata": {},
   "source": [
    "And, this distance was not at all close to the real measured distance - so, we need to go back and rethink things a bit. And I don't remember what the distance was that we measured.\n"
   ]
  },
  {
   "cell_type": "markdown",
   "id": "9ef0c024",
   "metadata": {},
   "source": [
    "\n",
    "### Dealing with Targets that are not Centered\n",
    "\n",
    "We did a little experiment with rotating the robot and looking at the `target_delta`. It was not constant, but\n",
    "rather, increased with either direction of rotation. What is going on here? We did a few thought experiments in\n",
    "Aden's driveway with some cardboard representing target and plane of elevation of the limelight. We realized\n",
    "that as the target moved off-center there was a change in the elevation angle - let's call this the\n",
    "`actualElevation`. We built some 3D models which demonstrated that this `actualElevation` was a\n",
    "function of the limelight X angle to the target:\n",
    "![alt text](./resources/ElevatedLimelight.jpg \"simple distance with limelight\")\n",
    "\n",
    "And then we did some derivations on cardboard and came to the formulas below. WHICH I THINK ARE WRONG, BUT I\"M NOT SURE WHY !!!"
   ]
  },
  {
   "cell_type": "code",
   "execution_count": 9,
   "id": "e07687a3",
   "metadata": {},
   "outputs": [
    {
     "name": "stdout",
     "output_type": "stream",
     "text": [
      "Math.cos(x_angle) = 0.978436946649733\n",
      "LIMELIGHT_ELEV_ANGLE in radians = 0.337\n",
      "actualElevation in radians = 0.3179128822882733\n",
      "Math.cos(x_angle) = 0.978436946649733\n",
      "actualRotation in radians = -0.22005713694458273\n"
     ]
    },
    {
     "data": {
      "text/plain": [
       "1.2561145824987987"
      ]
     },
     "execution_count": 9,
     "metadata": {},
     "output_type": "execute_result"
    }
   ],
   "source": [
    "double actualElevation(double x_angle)\n",
    "{\n",
    "    System.out.println(\"Math.cos(x_angle) = \" + Math.cos(x_angle));\n",
    "    return Math.sin(Math.sin(LIMELIGHT_ELEV_ANGLE) * Math.cos(x_angle));\n",
    "}\n",
    "double actualRotation(double x_angle)\n",
    "{\n",
    "    System.out.println(\"Math.cos(x_angle) = \" + Math.cos(x_angle));\n",
    "    return Math.atan2(Math.sin(x_angle),\n",
    "                      Math.cos(LIMELIGHT_ELEV_ANGLE) * Math.cos(x_angle));\n",
    "}\n",
    "\n",
    "double actualElevation = actualElevation(rot_target_x);\n",
    "System.out.println(\"LIMELIGHT_ELEV_ANGLE in radians = \" + LIMELIGHT_ELEV_ANGLE);\n",
    "System.out.println(\"actualElevation in radians = \" + actualElevation);\n",
    "double actualRotation = actualRotation(rot_target_x);\n",
    "System.out.println(\"actualRotation in radians = \" + actualRotation);\n",
    "(TARGET_HEIGHT - LIMELIGHT_HEIGHT) / Math.tan(actualElevation + rot_target_y);"
   ]
  },
  {
   "cell_type": "markdown",
   "id": "11f0b829",
   "metadata": {},
   "source": [
    "### Dealing with the Limelight Offsets\n",
    "\n",
    "This was a first try at using offsets to convert limelight position to robot position - but it was very niave and\n",
    "cannot be easily generalized. This was our initial look at converting the camera distance for a target directly\n",
    "in front of the camera to a robot distance and robot target angle - and the results where pretty accurate:"
   ]
  },
  {
   "cell_type": "code",
   "execution_count": 9,
   "id": "dcdc52f7",
   "metadata": {},
   "outputs": [
    {
     "data": {
      "text/plain": [
       "1.2000454492623522"
      ]
     },
     "execution_count": 9,
     "metadata": {},
     "output_type": "execute_result"
    }
   ],
   "source": [
    "double y_dist = target_distance + LIMELIGHT_Y_OFFSET;\n",
    "double x_dist = LIMELIGHT_X_OFFSET;\n",
    "double robotTargetDistance = Math.sqrt((y_dist*y_dist) + (x_dist*x_dist));\n",
    "robotTargetDistance"
   ]
  },
  {
   "cell_type": "code",
   "execution_count": 10,
   "id": "57dc4558",
   "metadata": {},
   "outputs": [
    {
     "data": {
      "text/plain": [
       "-9.593701436832506"
      ]
     },
     "execution_count": 10,
     "metadata": {},
     "output_type": "execute_result"
    }
   ],
   "source": [
    "double robotTargetAngle = Math.atan2(x_dist, y_dist);\n",
    "Math.toDegrees(robotTargetAngle)"
   ]
  },
  {
   "cell_type": "markdown",
   "id": "355692d0",
   "metadata": {},
   "source": [
    "**But** - after we did this, we started to realize that we needed way better math conventions going forward."
   ]
  },
  {
   "cell_type": "code",
   "execution_count": null,
   "id": "86c65a59",
   "metadata": {},
   "outputs": [],
   "source": []
  }
 ],
 "metadata": {
  "kernelspec": {
   "display_name": "Java",
   "language": "java",
   "name": "java"
  },
  "language_info": {
   "codemirror_mode": "java",
   "file_extension": ".jshell",
   "mimetype": "text/x-java-source",
   "name": "Java",
   "pygments_lexer": "java",
   "version": "16.0.1+9-24"
  }
 },
 "nbformat": 4,
 "nbformat_minor": 5
}
