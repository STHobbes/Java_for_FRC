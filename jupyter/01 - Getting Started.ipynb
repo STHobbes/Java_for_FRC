{
 "cells": [
  {
   "cell_type": "markdown",
   "id": "3e7dd1eb",
   "metadata": {},
   "source": [
    "***Good, you have jupyter notebooks installed and running!!***\n",
    "\n",
    "Let's start by talking a little about the FRC robot environment and about WPIlib. You will generally be grogramming on your own laptop or a teal laptop (one of the driver stations). From your laptop you download code to the robot to run the robot, and you upload code to github so it can be easily shared between team members and so we have a history of all the changes made to code, and the version of the code that we ran at each of the competitions\n",
    "\n",
    "We program the robot in Java as that is one of the languages supported by\n",
    "[WPIlib](https://docs.wpilib.org/en/stable/)."
   ]
  },
  {
   "cell_type": "markdown",
   "id": "306e86c1",
   "metadata": {},
   "source": [
    "**What is Java, and how does it compare to other languages?**"
   ]
  },
  {
   "cell_type": "markdown",
   "id": "23907df8",
   "metadata": {},
   "source": [
    "Java is a relatively old language (see the [Wikipedia](https://en.wikipedia.org/wiki/Java_(programming_language)) artcle) originally released in the mid 1990's in my experience with languages I would characterize these aspects\n",
    "of Java:\n",
    "* **declarative vs implerative** - Java is an imperative language. I read an article recently that\n",
    "  characterized declarative languages as ones where you declare the intent and it just happens vs.\n",
    "  imperative languages where you explicitly describe what must be done to achieve the intent. The\n",
    "  example they used was how you would describe meeting somewhere, i.e. \"Let's meet at Kickstand in\n",
    "  Hood River for coffee and 9:30AM\" is declarative. It describes intent without going into any details\n",
    "  of how you get to kickstand at 9:30AM - you figure that out.  \n",
    "  \n",
    "  In an imperative language concepts are low-level and the description would start with where you are\n",
    "  and explicitly describe when you should leave which streets you take, where you turn, landmarks,\n",
    "  etc., to descibe the exact path you would take to get to Kickstand. Oddly, in the imperative approach\n",
    "  the address might never be revealed since the imperitives get you there.\n",
    "  \n",
    "  The difference between these two is that in the imperitive case you are relying on the programmer to\n",
    "  make the best decision about how to get from where someone is to kickstand. In the declarative case you\n",
    "  describe what you want to happen, and leave the details to be taken care of by the programming language - or,\n",
    "  in this case, a person who is using google maps who might want to run a couple errands along the way.\n",
    "  \n",
    "  In Java you will find that there are a lot of libraries that have declarative capabilities for certain\n",
    "  tasks. WPIlib is an example of that, which lets you declare what you want parts of the robot to do\n",
    "  (i.e. set the speed of a motor) rather than describing the intricate details of reading encoders, applying\n",
    "  PID loops to control power, sending power directives to the controller, etc.\n",
    "  \n",
    "* **structured vs unstructured** - Java is a very structured language. While I have found different\n",
    "  interpretations of *structured*, the most useful describe structured as encouraging building\n",
    "  and packaging *reusable* blocks of code. Other reference address the rigidity of syntax structure.\n",
    "  Java has both.\n",
    "\n",
    "* **object-oriented** - Java is object-oriented\n",
    "* **strongly typed vs. inferred types** - Java is stringly typed\n",
    "* **compiled vs. interpreted** - Java is compiled\n",
    "* **platform (hardware and operating system) independence** - Java compiles to bytecode - which is\n",
    "  intended to be platform independent. You should be able to run it on any computer."
   ]
  },
  {
   "cell_type": "code",
   "execution_count": null,
   "id": "48b8f6d4",
   "metadata": {},
   "outputs": [],
   "source": []
  }
 ],
 "metadata": {
  "kernelspec": {
   "display_name": "Java",
   "language": "java",
   "name": "java"
  },
  "language_info": {
   "codemirror_mode": "java",
   "file_extension": ".jshell",
   "mimetype": "text/x-java-source",
   "name": "Java",
   "pygments_lexer": "java",
   "version": "14+36-1461"
  }
 },
 "nbformat": 4,
 "nbformat_minor": 5
}
