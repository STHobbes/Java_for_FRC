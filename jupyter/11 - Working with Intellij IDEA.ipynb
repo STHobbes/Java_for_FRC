{
 "cells": [
  {
   "cell_type": "markdown",
   "id": "3ee5ccea",
   "metadata": {},
   "source": [
    "# Let's Start Using Idea\n",
    "\n"
   ]
  }
 ],
 "metadata": {
  "kernelspec": {
   "display_name": "Java",
   "language": "java",
   "name": "java"
  },
  "language_info": {
   "codemirror_mode": "java",
   "file_extension": ".jshell",
   "mimetype": "text/x-java-source",
   "name": "Java",
   "pygments_lexer": "java",
   "version": "16.0.1+9-24"
  }
 },
 "nbformat": 4,
 "nbformat_minor": 5
}
