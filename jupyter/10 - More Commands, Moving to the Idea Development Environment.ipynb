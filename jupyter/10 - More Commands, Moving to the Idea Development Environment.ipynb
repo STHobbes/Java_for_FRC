{
 "cells": [
  {
   "cell_type": "markdown",
   "id": "77cc209d",
   "metadata": {},
   "source": [
    "# Making Some Cool New Commands"
   ]
  },
  {
   "cell_type": "markdown",
   "id": "5583da0e",
   "metadata": {},
   "source": [
    "# What Happens if we put a Sleep or Loop in a Command?"
   ]
  },
  {
   "cell_type": "markdown",
   "id": "9b94bf2b",
   "metadata": {},
   "source": [
    "# Moving to IDEA"
   ]
  },
  {
   "cell_type": "code",
   "execution_count": null,
   "id": "3fd88502",
   "metadata": {},
   "outputs": [],
   "source": []
  }
 ],
 "metadata": {
  "kernelspec": {
   "display_name": "Java",
   "language": "java",
   "name": "java"
  },
  "language_info": {
   "codemirror_mode": "java",
   "file_extension": ".jshell",
   "mimetype": "text/x-java-source",
   "name": "Java",
   "pygments_lexer": "java",
   "version": "16.0.1+9-24"
  }
 },
 "nbformat": 4,
 "nbformat_minor": 5
}
